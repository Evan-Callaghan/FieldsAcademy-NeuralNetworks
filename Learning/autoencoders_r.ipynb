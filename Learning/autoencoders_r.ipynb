{
 "cells": [
  {
   "cell_type": "code",
   "execution_count": null,
   "id": "213e3b69-fff8-472b-928b-d206f63b5383",
   "metadata": {
    "tags": []
   },
   "outputs": [],
   "source": [
    "install.packages('tensorflow')\n",
    "install.packages('keras')"
   ]
  },
  {
   "cell_type": "code",
   "execution_count": null,
   "id": "0017f03a-665b-4fba-9b3d-45406df3a9a2",
   "metadata": {
    "tags": []
   },
   "outputs": [],
   "source": [
    "library(reticulate)\n",
    "\n",
    "path_to_python <- install_python()\n",
    "virtualenv_create(\"r-reticulate\", python = path_to_python)\n",
    "\n",
    "library(tensorflow)\n",
    "install_tensorflow(envname = \"r-reticulate\")\n",
    "\n",
    "library(keras)\n",
    "install_keras(envname = \"r-reticulate\")"
   ]
  },
  {
   "cell_type": "code",
   "execution_count": null,
   "id": "93ece709-ff49-48dd-9c02-16ee16c45976",
   "metadata": {},
   "outputs": [],
   "source": []
  },
  {
   "cell_type": "code",
   "execution_count": null,
   "id": "4f51f6df-c777-4f46-8b1f-cca6441b758a",
   "metadata": {
    "tags": []
   },
   "outputs": [],
   "source": [
    "install.packages('remotes')"
   ]
  },
  {
   "cell_type": "code",
   "execution_count": 19,
   "id": "d4bf1338-15f6-4905-9d40-4a5a00c03dfa",
   "metadata": {
    "tags": []
   },
   "outputs": [],
   "source": [
    "library(remotes)"
   ]
  },
  {
   "cell_type": "code",
   "execution_count": 20,
   "id": "e2b01b8c-404e-451e-814e-d236ecab0a45",
   "metadata": {
    "tags": []
   },
   "outputs": [
    {
     "name": "stderr",
     "output_type": "stream",
     "text": [
      "Downloading GitHub repo rstudio/tensorflow@HEAD\n",
      "\n"
     ]
    },
    {
     "name": "stdout",
     "output_type": "stream",
     "text": [
      "reticulate (1.26  -> b0c0561a5...) [GitHub]\n",
      "RcppTOML   (0.1.7 -> 0.2.2       ) [CRAN]\n",
      "vctrs      (0.6.1 -> 0.6.2       ) [CRAN]\n",
      "rlang      (1.1.0 -> 1.1.1       ) [CRAN]\n",
      "ps         (1.7.4 -> 1.7.5       ) [CRAN]\n",
      "processx   (3.8.0 -> 3.8.1       ) [CRAN]\n"
     ]
    },
    {
     "name": "stderr",
     "output_type": "stream",
     "text": [
      "Installing 5 packages: RcppTOML, vctrs, rlang, ps, processx\n",
      "\n",
      "Updating HTML index of packages in '.Library'\n",
      "\n",
      "Making 'packages.html' ...\n",
      " done\n",
      "\n",
      "Downloading GitHub repo rstudio/reticulate@HEAD\n",
      "\n"
     ]
    },
    {
     "name": "stdout",
     "output_type": "stream",
     "text": [
      "\n"
     ]
    },
    {
     "name": "stderr",
     "output_type": "stream",
     "text": [
      "Running `R CMD build`...\n",
      "\n"
     ]
    },
    {
     "name": "stdout",
     "output_type": "stream",
     "text": [
      "* checking for file ‘/tmp/RtmpVVJYrI/remotes1e805e19f1c3/rstudio-reticulate-b0c0561/DESCRIPTION’ ... OK\n",
      "* preparing ‘reticulate’:\n",
      "* checking DESCRIPTION meta-information ... OK\n",
      "* cleaning src\n",
      "* checking for LF line-endings in source and make files and shell scripts\n",
      "* checking for empty or unneeded directories\n",
      "* building ‘reticulate_1.28-9000.tar.gz’\n"
     ]
    },
    {
     "name": "stderr",
     "output_type": "stream",
     "text": [
      "Running `R CMD build`...\n",
      "\n"
     ]
    },
    {
     "name": "stdout",
     "output_type": "stream",
     "text": [
      "* checking for file ‘/tmp/RtmpVVJYrI/remotes1e8075062b94/rstudio-tensorflow-758282c/DESCRIPTION’ ... OK\n",
      "* preparing ‘tensorflow’:\n",
      "* checking DESCRIPTION meta-information ... OK\n",
      "* checking for LF line-endings in source and make files and shell scripts\n",
      "* checking for empty or unneeded directories\n",
      "* building ‘tensorflow_2.11.0.9000.tar.gz’\n"
     ]
    }
   ],
   "source": [
    "remotes::install_github('rstudio/tensorflow')"
   ]
  },
  {
   "cell_type": "code",
   "execution_count": 23,
   "id": "57232c34-b919-4cbf-a426-b8c5a1d428ee",
   "metadata": {
    "tags": []
   },
   "outputs": [],
   "source": [
    "library(tensorflow)"
   ]
  },
  {
   "cell_type": "code",
   "execution_count": 24,
   "id": "8500118c-e770-4a55-b56e-026f74232e7c",
   "metadata": {
    "tags": []
   },
   "outputs": [
    {
     "name": "stdout",
     "output_type": "stream",
     "text": [
      "Using virtual environment 'r-reticulate' ...\n"
     ]
    },
    {
     "name": "stderr",
     "output_type": "stream",
     "text": [
      "+ '/home/ec2-user/.virtualenvs/r-reticulate/bin/python' -m pip install --upgrade --no-user --ignore-installed 'tensorflow==2.11.*'\n",
      "\n"
     ]
    },
    {
     "name": "stdout",
     "output_type": "stream",
     "text": [
      "\n",
      "Installation complete.\n",
      "\n"
     ]
    }
   ],
   "source": [
    "install_tensorflow(envname = \"r-reticulate\")"
   ]
  },
  {
   "cell_type": "code",
   "execution_count": 25,
   "id": "33eb7479-ca4c-45e7-ae32-e311d2f5f4fe",
   "metadata": {
    "tags": []
   },
   "outputs": [
    {
     "data": {
      "text/plain": [
       "Valid installation of TensorFlow not found.\n",
       "\n",
       "Python environments searched for 'tensorflow' package:\n",
       " /home/ec2-user/anaconda3/envs/R/bin/python3.11\n",
       " /home/ec2-user/anaconda3/bin/python3.10\n",
       " /home/ec2-user/anaconda3/envs/amazonei_pytorch_latest_p37/bin/python3.7\n",
       " /home/ec2-user/anaconda3/envs/JupyterSystemEnv/bin/python3.10\n",
       " /home/ec2-user/anaconda3/envs/mxnet_p38/bin/python3.8\n",
       " /home/ec2-user/anaconda3/envs/python3/bin/python3.10\n",
       " /home/ec2-user/anaconda3/envs/pytorch_p39/bin/python3.9\n",
       " /home/ec2-user/anaconda3/envs/R/bin/python3.11\n",
       " /home/ec2-user/anaconda3/envs/tensorflow2_p310/bin/python3.10\n",
       "\n",
       "Python exception encountered:\n",
       " Traceback (most recent call last):\n",
       "  File \"/home/ec2-user/anaconda3/envs/R/lib/R/library/reticulate/python/rpytools/loader.py\", line 39, in _import_hook\n",
       "    # Run hooks on imported packages, if safe to do so.\n",
       "                   ^^^^^^^^^^^^^^^^^^^^^^^^^^^^^^^^^^^^\n",
       "ModuleNotFoundError: No module named 'tensorflow'\n",
       "\n",
       "\n",
       "You can install TensorFlow using the install_tensorflow() function.\n",
       " "
      ]
     },
     "metadata": {},
     "output_type": "display_data"
    }
   ],
   "source": [
    "tf_config()"
   ]
  },
  {
   "cell_type": "code",
   "execution_count": 26,
   "id": "ceab7e55-caed-423e-9785-12ab79dd980f",
   "metadata": {
    "tags": []
   },
   "outputs": [
    {
     "ename": "ERROR",
     "evalue": "Error: Error installing package(s): \"'tensorflow==2.11.*'\"\n",
     "output_type": "error",
     "traceback": [
      "Error: Error installing package(s): \"'tensorflow==2.11.*'\"\nTraceback:\n",
      "1. install_tensorflow()",
      "2. reticulate::py_install(packages = packages, envname = envname, \n .     method = method, conda = conda, python_version = python_version, \n .     pip = TRUE, pip_ignore_installed = pip_ignore_installed, \n .     ...)",
      "3. conda_install(envname, packages = packages, conda = conda, python_version = python_version, \n .     pip = pip, pip_ignore_installed = pip_ignore_installed, ...)",
      "4. pip_install(python = python, packages = packages, pip_options = pip_options, \n .     ignore_installed = pip_ignore_installed, conda = conda, envname = envname)",
      "5. stop(msg, call. = FALSE)"
     ]
    }
   ],
   "source": [
    "install_tensorflow()"
   ]
  },
  {
   "cell_type": "code",
   "execution_count": 16,
   "id": "87345042-4e78-4c5c-a1c5-73ac34235645",
   "metadata": {
    "tags": []
   },
   "outputs": [
    {
     "name": "stdout",
     "output_type": "stream",
     "text": [
      "List of 20\n",
      " $ python              : chr \"/home/ec2-user/anaconda3/envs/R/bin/python3\"\n",
      " $ libpython           : chr \"/home/ec2-user/anaconda3/envs/R/lib/libpython3.11.so\"\n",
      " $ pythonhome          : chr \"/home/ec2-user/anaconda3/envs/R:/home/ec2-user/anaconda3/envs/R\"\n",
      " $ pythonpath          : chr \"/home/ec2-user/anaconda3/envs/R/lib/python311.zip:/home/ec2-user/anaconda3/envs/R/lib/python3.11:/home/ec2-user\"| __truncated__\n",
      " $ prefix              : chr \"/home/ec2-user/anaconda3/envs/R\"\n",
      " $ exec_prefix         : chr \"/home/ec2-user/anaconda3/envs/R\"\n",
      " $ base_exec_prefix    : chr \"/home/ec2-user/anaconda3/envs/R\"\n",
      " $ virtualenv          : chr \"\"\n",
      " $ virtualenv_activate : chr \"\"\n",
      " $ version_string      : chr \"3.11.3 | packaged by conda-forge | (main, Apr  6 2023, 08:57:19) [GCC 11.3.0]\"\n",
      " $ version             : chr \"3.11\"\n",
      " $ architecture        : chr \"64bit\"\n",
      " $ anaconda            : logi FALSE\n",
      " $ conda               : logi TRUE\n",
      " $ numpy               :List of 2\n",
      "  ..$ path   : chr \"/home/ec2-user/anaconda3/envs/R/lib/python3.11/site-packages/numpy\"\n",
      "  ..$ version:Class 'numeric_version'  hidden list of 1\n",
      "  .. ..$ : int [1:3] 1 24 2\n",
      " $ required_module     : NULL\n",
      " $ required_module_path: NULL\n",
      " $ available           : logi TRUE\n",
      " $ python_versions     : chr [1:9] \"/home/ec2-user/anaconda3/envs/R/bin/python3\" \"/home/ec2-user/anaconda3/bin/python\" \"/home/ec2-user/anaconda3/envs/amazonei_pytorch_latest_p37/bin/python\" \"/home/ec2-user/anaconda3/envs/JupyterSystemEnv/bin/python\" ...\n",
      " $ forced              : NULL\n",
      " - attr(*, \"class\")= chr \"py_config\"\n"
     ]
    },
    {
     "ename": "ERROR",
     "evalue": "Error: Python module tensorflow.keras was not found.\n\nDetected Python configuration:\n\n\n\n",
     "output_type": "error",
     "traceback": [
      "Error: Python module tensorflow.keras was not found.\n\nDetected Python configuration:\n\n\n\nTraceback:\n",
      "1. dataset_mnist()",
      "2. keras$datasets",
      "3. `$.python.builtin.module`(keras, \"datasets\")",
      "4. py_resolve_module_proxy(x)",
      "5. stop(message, call. = FALSE)"
     ]
    }
   ],
   "source": [
    "## Loading MNIST data set\n",
    "mnist = dataset_mnist()\n",
    "\n",
    "## Defining training and testing data\n",
    "X_train = mnist$train$x\n",
    "X_test = mnist$test$x"
   ]
  },
  {
   "cell_type": "code",
   "execution_count": null,
   "id": "a73ca451-2b02-4572-991f-cbd9cb63d22a",
   "metadata": {},
   "outputs": [],
   "source": [
    "## Printing the dimensions of the "
   ]
  },
  {
   "cell_type": "code",
   "execution_count": null,
   "id": "eb3512c1-8ef6-4b27-9262-2b2e318ef584",
   "metadata": {},
   "outputs": [],
   "source": [
    "library(keras)\n",
    "mnist <- dataset_mnist()\n",
    "x_train <- mnist$train$x\n",
    "y_train <- mnist$train$y\n",
    "x_test <- mnist$test$x\n",
    "y_test <- mnist$test$y"
   ]
  }
 ],
 "metadata": {
  "kernelspec": {
   "display_name": "R",
   "language": "R",
   "name": "ir"
  },
  "language_info": {
   "codemirror_mode": "r",
   "file_extension": ".r",
   "mimetype": "text/x-r-source",
   "name": "R",
   "pygments_lexer": "r",
   "version": "4.2.3"
  }
 },
 "nbformat": 4,
 "nbformat_minor": 5
}
