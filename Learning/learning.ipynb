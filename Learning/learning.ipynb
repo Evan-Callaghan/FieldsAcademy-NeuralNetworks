{
 "cells": [
  {
   "cell_type": "code",
   "execution_count": null,
   "id": "c4a16056-bbe2-4a51-bd72-e8195be66c22",
   "metadata": {
    "tags": []
   },
   "outputs": [],
   "source": [
    "install.packages(\"tensorflow\")"
   ]
  },
  {
   "cell_type": "code",
   "execution_count": null,
   "id": "94a742a0-57c0-4e16-b73c-f3f0dbb80564",
   "metadata": {
    "tags": []
   },
   "outputs": [],
   "source": [
    "library(reticulate)\n",
    "path_to_python <- install_python()\n",
    "virtualenv_create(\"r-reticulate\", python = path_to_python)"
   ]
  },
  {
   "cell_type": "code",
   "execution_count": null,
   "id": "e88582ba-2ee3-4ede-bdb1-9d5d1eb5cd35",
   "metadata": {
    "tags": []
   },
   "outputs": [],
   "source": [
    "library(tensorflow)\n",
    "install_tensorflow(envname = \"r-reticulate\")"
   ]
  },
  {
   "cell_type": "code",
   "execution_count": 5,
   "id": "aeb578c6-b286-44e0-8310-51c7005f8520",
   "metadata": {
    "tags": []
   },
   "outputs": [
    {
     "name": "stdout",
     "output_type": "stream",
     "text": [
      "List of 20\n",
      " $ python              : chr \"/home/ec2-user/.virtualenvs/r-reticulate/bin/python\"\n",
      " $ libpython           : chr \"/home/ec2-user/.pyenv/versions/3.9.16/lib/libpython3.9.so\"\n",
      " $ pythonhome          : chr \"/home/ec2-user/.virtualenvs/r-reticulate:/home/ec2-user/.virtualenvs/r-reticulate\"\n",
      " $ pythonpath          : chr \"/home/ec2-user/.pyenv/versions/3.9.16/lib/python39.zip:/home/ec2-user/.pyenv/versions/3.9.16/lib/python3.9:/hom\"| __truncated__\n",
      " $ prefix              : chr \"/home/ec2-user/.virtualenvs/r-reticulate\"\n",
      " $ exec_prefix         : chr \"/home/ec2-user/.virtualenvs/r-reticulate\"\n",
      " $ base_exec_prefix    : chr \"/home/ec2-user/.pyenv/versions/3.9.16\"\n",
      " $ virtualenv          : chr \"/home/ec2-user/.virtualenvs/r-reticulate\"\n",
      " $ virtualenv_activate : chr \"\"\n",
      " $ version_string      : chr \"3.9.16 (main, May  7 2023, 14:45:02)  [GCC 7.3.1 20180712 (Red Hat 7.3.1-15)]\"\n",
      " $ version             : chr \"3.9\"\n",
      " $ architecture        : chr \"64bit\"\n",
      " $ anaconda            : logi FALSE\n",
      " $ conda               : logi FALSE\n",
      " $ numpy               :List of 2\n",
      "  ..$ path   : chr \"/home/ec2-user/.virtualenvs/r-reticulate/lib/python3.9/site-packages/numpy\"\n",
      "  ..$ version:Class 'numeric_version'  hidden list of 1\n",
      "  .. ..$ : int [1:3] 1 24 3\n",
      " $ required_module     : chr \"tensorflow\"\n",
      " $ required_module_path: chr \"/home/ec2-user/.virtualenvs/r-reticulate/lib/python3.9/site-packages/tensorflow\"\n",
      " $ available           : logi TRUE\n",
      " $ python_versions     : chr [1:10] \"/home/ec2-user/.virtualenvs/r-reticulate/bin/python\" \"/home/ec2-user/anaconda3/envs/R/bin/python3\" \"/home/ec2-user/anaconda3/bin/python\" \"/home/ec2-user/anaconda3/envs/amazonei_pytorch_latest_p37/bin/python\" ...\n",
      " $ forced              : NULL\n",
      " - attr(*, \"class\")= chr \"py_config\"\n"
     ]
    },
    {
     "ename": "ERROR",
     "evalue": "Error: Python module tensorflow was not found.\n\nDetected Python configuration:\n\n\n\n",
     "output_type": "error",
     "traceback": [
      "Error: Python module tensorflow was not found.\n\nDetected Python configuration:\n\n\n\nTraceback:\n",
      "1. tf$constant",
      "2. `$.python.builtin.module`(tf, constant)",
      "3. py_resolve_module_proxy(x)",
      "4. stop(message, call. = FALSE)"
     ]
    }
   ],
   "source": [
    "library(tensorflow)\n",
    "tf$constant(\"Hello Tensorflow!\")"
   ]
  },
  {
   "cell_type": "code",
   "execution_count": null,
   "id": "36ab48d0-d0d0-4511-90b2-6340146dcc78",
   "metadata": {},
   "outputs": [],
   "source": [
    "fashion_mnist <- dataset_fashion_mnist()\n",
    "\n",
    "c(train_images, train_labels) %<-% fashion_mnist$train\n",
    "c(test_images, test_labels) %<-% fashion_mnist$test"
   ]
  }
 ],
 "metadata": {
  "kernelspec": {
   "display_name": "R",
   "language": "R",
   "name": "ir"
  },
  "language_info": {
   "codemirror_mode": "r",
   "file_extension": ".r",
   "mimetype": "text/x-r-source",
   "name": "R",
   "pygments_lexer": "r",
   "version": "4.2.3"
  }
 },
 "nbformat": 4,
 "nbformat_minor": 5
}
