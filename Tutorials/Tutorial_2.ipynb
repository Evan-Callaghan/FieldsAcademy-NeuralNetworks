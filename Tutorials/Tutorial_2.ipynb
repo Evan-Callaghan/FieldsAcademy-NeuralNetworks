{
 "cells": [
  {
   "cell_type": "markdown",
   "id": "c04fabee-fb54-48a5-9f56-a0a8124f68ab",
   "metadata": {},
   "source": [
    "## Tutorial 2: \n",
    "### January 19, 2023"
   ]
  },
  {
   "cell_type": "code",
   "execution_count": null,
   "id": "4585af10-f090-455d-9503-17136e7f63cf",
   "metadata": {},
   "outputs": [],
   "source": []
  }
 ],
 "metadata": {
  "kernelspec": {
   "display_name": "Python 3 (ipykernel)",
   "language": "python",
   "name": "python3"
  },
  "language_info": {
   "codemirror_mode": {
    "name": "ipython",
    "version": 3
   },
   "file_extension": ".py",
   "mimetype": "text/x-python",
   "name": "python",
   "nbconvert_exporter": "python",
   "pygments_lexer": "ipython3",
   "version": "3.9.12"
  }
 },
 "nbformat": 4,
 "nbformat_minor": 5
}
