{
 "cells": [
  {
   "cell_type": "markdown",
   "id": "4f95afdf-fedf-46ab-93e7-7ca1a801cc5e",
   "metadata": {},
   "source": [
    "## Tutorial 3: The Leaky Integrate-and-Fire (LIF) Neuron\n",
    "### January 26, 2023"
   ]
  },
  {
   "cell_type": "code",
   "execution_count": 25,
   "id": "0a9dcb18-cb14-4621-a193-af74b2c1464e",
   "metadata": {},
   "outputs": [],
   "source": [
    "## Importing libraries\n",
    "import numpy as np \n",
    "import matplotlib.pyplot as plt \n",
    "from itertools import islice"
   ]
  },
  {
   "cell_type": "markdown",
   "id": "3695c831-d040-497d-ac9f-994c6ca1f6ef",
   "metadata": {},
   "source": [
    "#### The LIF Neuron"
   ]
  },
  {
   "cell_type": "code",
   "execution_count": 32,
   "id": "d530f5ad-d016-4c7b-94f6-ef9a503cd45f",
   "metadata": {},
   "outputs": [],
   "source": [
    "## Defining pparameters\n",
    "Rm = 1e6 ## resistance (ohm)\n",
    "Cm = 2e-8 ## capacitance (farad)\n",
    "taum = Rm*Cm ## time constant (seconds)\n",
    "EL = -.060 ## resting membrane potential (volt)\n",
    "Vreset = -.070 ## membrane potential after spike (volt)\n",
    "Vth = -.050 ## spike threshold (volt)\n",
    "Vs = .020 ## spiking potential (volt)"
   ]
  },
  {
   "cell_type": "markdown",
   "id": "6c07ed77-034b-4aeb-9deb-6d46fdcf457a",
   "metadata": {},
   "source": [
    "#### Time Axis"
   ]
  },
  {
   "cell_type": "code",
   "execution_count": 33,
   "id": "f8db59ea-c36d-400e-9b3b-8ecadb086c4c",
   "metadata": {},
   "outputs": [],
   "source": [
    "dt = .001 ## simulation time step (seconds)\n",
    "T = 1 ## total time to simulate (seconds)\n",
    "time = np.linspace(dt, T, int(T/dt)) ## vector of timepoints we will simulate"
   ]
  },
  {
   "cell_type": "markdown",
   "id": "5cd8385f-b917-479b-b53c-de67abdbae7b",
   "metadata": {},
   "source": [
    "#### Helper Functions"
   ]
  },
  {
   "cell_type": "code",
   "execution_count": 34,
   "id": "94160308-6b3c-4b73-9e43-c3908ae9d156",
   "metadata": {},
   "outputs": [],
   "source": [
    "def initialize_simulation():\n",
    "    ## Initializing membrane potential vector 'V' and spike vector 'spikes'\n",
    "    V = np.zeros(time.size) ## preallocate vector for simulated membrane potentials\n",
    "    spikes = np.zeros(time.size) ## vector to denote when spikes happen - spikes will be added after LIF simulation\n",
    "    V[0] = EL ## set first time point to resting potential\n",
    "    return V, spikes\n",
    "\n",
    "def plot_potentials(time, V, timeSpikes):\n",
    "    ## Plotting membrane potential (V) against time (time), and marks spikes with red markers (timeSpikes)\n",
    "    plt.show()\n",
    "    plt.plot(time, V, 'k', timeSpikes, np.ones(timeSpikes.size) * Vs, 'ro')\n",
    "    plt.ylabel('membrane potential (mV)')\n",
    "    plt.xlabel('time (seconds)')"
   ]
  },
  {
   "cell_type": "markdown",
   "id": "ff95e908-18de-46bb-8b75-747ae04703a2",
   "metadata": {},
   "source": [
    "#### Simulating the LIF Neuron"
   ]
  },
  {
   "cell_type": "code",
   "execution_count": 35,
   "id": "3fc6e07a-bfe2-48e6-83fe-0a23788ba43c",
   "metadata": {},
   "outputs": [],
   "source": [
    "def integrate_and_fire(V, spikes, i, Ie):\n",
    "    ## Function to integrate changes in local membrane potential and fire if threshold reached\n",
    "    # V - vector of membrane potential\n",
    "    # spikes - spike marker vector\n",
    "    # i - index (applied to V and spikes) for current time step\n",
    "    # Ie - input current at this time step (scalar of unit amp)\n",
    "    \n",
    "    # 1: calculate change in membrane potential (dV)\n",
    "    dV = ((EL - V[i-1]) + (Rm*Ie)) / taum\n",
    "    \n",
    "    # 2: integrate over given time step (Euler method)\n",
    "    V[i] = (dV*dt) + V[i-1]\n",
    "    \n",
    "    # 3: does the membrane potential exceed threshold (V > Vth)?\n",
    "    if (V[i] > Vth):\n",
    "        V[i] = Vreset\n",
    "        spikes[i] = 1\n",
    "    \n",
    "    return V, spikes # output the membrane potential vector and the {0,1} vector of spikes"
   ]
  },
  {
   "cell_type": "markdown",
   "id": "b950df74-e228-4f0f-ba55-99eb97cdd863",
   "metadata": {},
   "source": [
    "#### Problem 1: Step current input"
   ]
  },
  {
   "cell_type": "code",
   "execution_count": 53,
   "id": "7470690b-216d-483c-920a-4989af15687a",
   "metadata": {},
   "outputs": [
    {
     "data": {
      "text/plain": [
       "Text(0.5, 1.0, 'Problem 1: step current input')"
      ]
     },
     "execution_count": 53,
     "metadata": {},
     "output_type": "execute_result"
    },
    {
     "data": {
      "image/png": "[encoded data removed]",
      "text/plain": [
       "<Figure size 432x288 with 1 Axes>"
      ]
     },
     "metadata": {
      "needs_background": "light"
     },
     "output_type": "display_data"
    }
   ],
   "source": [
    "#////////////////////////////////////\n",
    "#  Problem 1 - Step current input //\n",
    "#//////////////////////////////////\n",
    "#\n",
    "# Implement a leaky integrate and fire (LIF) neuron with parameters given \n",
    "# above. \n",
    "# \n",
    "# Create a current input which:\n",
    "#  - starts at 0 A\n",
    "#  - steps up to 15 nA at stim_time[0]\n",
    "#  - steps down to 0 A at stim_time[1]\n",
    "#\n",
    "# Output:\n",
    "# Plot the resulting simulated membrane potential of the LIF neuron.\n",
    "\n",
    "## Defining problem-specific parameters\n",
    "stim_time = [0.2, 0.8] ## time (seconds) when current turns ON and turns OFF\n",
    "\n",
    "## Initializing simulation\n",
    "V, spikes = initialize_simulation()\n",
    "\n",
    "## Iterating over each time step\n",
    "for i, t in islice(enumerate(time), 1, None):\n",
    "    \n",
    "    if (t > stim_time[0]) and (t < stim_time[1]):\n",
    "        Ie =  1.5e-8\n",
    "    else: \n",
    "        Ie =  0\n",
    "    \n",
    "    ## Calling integrate_and_fire function\n",
    "    V, spikes = integrate_and_fire(V, spikes, i, Ie)\n",
    "    \n",
    "## Adding spikes to create membrane potential waveforms\n",
    "V[spikes == 1] = Vs\n",
    "\n",
    "## Plotting membrane potential\n",
    "plot_potentials(time, V, time[spikes == 1])\n",
    "plt.title('Problem 1: step current input') "
   ]
  },
  {
   "cell_type": "markdown",
   "id": "6ff01e6c-b952-4aef-a3fb-d26a3df61b7c",
   "metadata": {},
   "source": [
    "#### Problem 2: Oscillating current input"
   ]
  },
  {
   "cell_type": "code",
   "execution_count": 54,
   "id": "d92ed76a-54bd-409c-85fc-bc651276626d",
   "metadata": {},
   "outputs": [
    {
     "data": {
      "text/plain": [
       "Text(0.5, 1.0, 'Problem 1: step current input')"
      ]
     },
     "execution_count": 54,
     "metadata": {},
     "output_type": "execute_result"
    },
    {
     "data": {
      "image/png": "[encoded data removed]",
      "text/plain": [
       "<Figure size 432x288 with 1 Axes>"
      ]
     },
     "metadata": {
      "needs_background": "light"
     },
     "output_type": "display_data"
    }
   ],
   "source": [
    "## Using the implementation of the LIF neuron model with the same parameters to create a current input that starts at 0 A, \n",
    "## begins oscillating with amplitude 20 nA at 200 ms, then stops oscillating and returns to 0 A at 800 ms. \n",
    "\n",
    "## Defining problem-specific parameters\n",
    "stim_time = [0.2, 0.8] ## time (seconds) when current turns ON and turns OFF\n",
    "\n",
    "## Initializing simulation\n",
    "V, spikes = initialize_simulation()\n",
    "\n",
    "## Iterating over each time step\n",
    "for i, t in islice(enumerate(time), 1, None):\n",
    "    \n",
    "    if (t > stim_time[0]) and (t < stim_time[1]):\n",
    "        Ie =  2e-8\n",
    "    else: \n",
    "        Ie =  0\n",
    "    \n",
    "    ## Calling integrate_and_fire function\n",
    "    V, spikes = integrate_and_fire(V, spikes, i, Ie)\n",
    "    \n",
    "## Adding spikes to create membrane potential waveforms\n",
    "V[spikes == 1] = Vs\n",
    "\n",
    "## Plotting membrane potential\n",
    "plot_potentials(time, V, time[spikes == 1])\n",
    "plt.title('Problem 1: step current input') \n",
    "\n",
    "## How does this change the dynamics of the neuron, and how does this change with the amplitude of the input?"
   ]
  },
  {
   "cell_type": "code",
   "execution_count": 55,
   "id": "c37e2fbc-4574-4d6b-b9b9-417c0e1e1f96",
   "metadata": {},
   "outputs": [
    {
     "data": {
      "text/plain": [
       "array([0.0e+00, 1.0e-09, 2.0e-09, 3.0e-09, 4.0e-09, 5.0e-09, 6.0e-09,\n",
       "       7.0e-09, 8.0e-09, 9.0e-09, 1.0e-08, 1.1e-08, 1.2e-08, 1.3e-08,\n",
       "       1.4e-08, 1.5e-08, 1.6e-08, 1.7e-08, 1.8e-08, 1.9e-08, 2.0e-08,\n",
       "       2.1e-08, 2.2e-08, 2.3e-08, 2.4e-08])"
      ]
     },
     "execution_count": 55,
     "metadata": {},
     "output_type": "execute_result"
    }
   ],
   "source": [
    "np.arange(0, 25e-9, 1e-9)"
   ]
  },
  {
   "cell_type": "code",
   "execution_count": 52,
   "id": "b712cc2b-a18d-41d1-9694-0bf1e57f48fb",
   "metadata": {},
   "outputs": [
    {
     "data": {
      "text/plain": [
       "Text(0.5, 0, 'temporal frequency')"
      ]
     },
     "execution_count": 52,
     "metadata": {},
     "output_type": "execute_result"
    },
    {
     "data": {
      "image/png": "[encoded data removed]",
      "text/plain": [
       "<Figure size 432x288 with 1 Axes>"
      ]
     },
     "metadata": {
      "needs_background": "light"
     },
     "output_type": "display_data"
    }
   ],
   "source": [
    "## Next, using a for loop to repeat this simulation multiple times while changing the oscillation frequency of the input\n",
    "\n",
    "## Initializing simulation\n",
    "V, spikes = initialize_simulation()\n",
    "\n",
    "Is = np.arange(0, 25e-9, 1e-9)\n",
    "nspikes = np.zeros(len(Is))\n",
    "\n",
    "for ii in np.arange(len(Is)):\n",
    "    for i, t in islice(enumerate(time), 1, None):\n",
    "        \n",
    "        if (t > stim_time[0]) and (t < stim_time[1]):\n",
    "            Ie = Is[ii]\n",
    "        else: \n",
    "            Ie =  0\n",
    "            \n",
    "        ## Calling integrate_and_fire function\n",
    "        V, spikes = integrate_and_fire(V, spikes, i, Ie)\n",
    "            \n",
    "    nspikes[ii] = np.sum(spikes) \n",
    "\n",
    "plt.show()\n",
    "plt.plot(Is, nspikes)\n",
    "plt.ylabel('number of spikes')\n",
    "plt.xlabel('temporal frequency')\n",
    "\n",
    "\n",
    "#Use oscillation frequencies ranging from 15 to 50 Hz, with an interval of 1 Hz, and a current amplitude of 40 nA. \n",
    "#How does the response of the LIF neuron - specifically in terms of the number of spikes - change with the temporal frequency of the input current?"
   ]
  },
  {
   "cell_type": "code",
   "execution_count": null,
   "id": "e57d8cd9-1032-48fa-9b3e-3f1bc93eaeef",
   "metadata": {},
   "outputs": [],
   "source": []
  },
  {
   "cell_type": "code",
   "execution_count": null,
   "id": "84aaa394-f3e0-47f6-9add-500c29531332",
   "metadata": {},
   "outputs": [],
   "source": []
  }
 ],
 "metadata": {
  "kernelspec": {
   "display_name": "Python 3 (ipykernel)",
   "language": "python",
   "name": "python3"
  },
  "language_info": {
   "codemirror_mode": {
    "name": "ipython",
    "version": 3
   },
   "file_extension": ".py",
   "mimetype": "text/x-python",
   "name": "python",
   "nbconvert_exporter": "python",
   "pygments_lexer": "ipython3",
   "version": "3.9.12"
  }
 },
 "nbformat": 4,
 "nbformat_minor": 5
}
