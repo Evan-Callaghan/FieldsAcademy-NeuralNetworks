{
 "cells": [
  {
   "cell_type": "markdown",
   "id": "f98755ea-e57b-4ae4-8a59-26c44fb6e08f",
   "metadata": {
    "tags": []
   },
   "source": [
    "## Tutorial 1 - Jan. 11, 2023"
   ]
  },
  {
   "cell_type": "code",
   "execution_count": 3,
   "id": "56f73368-e18a-4daf-93fd-ae6e0303074e",
   "metadata": {},
   "outputs": [],
   "source": [
    "import numpy as np"
   ]
  },
  {
   "cell_type": "code",
   "execution_count": 4,
   "id": "0eec7507-c3a4-483e-b275-0bf97bc6cfb7",
   "metadata": {},
   "outputs": [],
   "source": [
    "a = np.array([3])"
   ]
  },
  {
   "cell_type": "code",
   "execution_count": 5,
   "id": "a81b8263-5884-4820-820f-a0b2c6296584",
   "metadata": {},
   "outputs": [
    {
     "data": {
      "text/plain": [
       "array([3])"
      ]
     },
     "execution_count": 5,
     "metadata": {},
     "output_type": "execute_result"
    }
   ],
   "source": [
    "a"
   ]
  },
  {
   "cell_type": "code",
   "execution_count": 6,
   "id": "d4fda272-66f9-4512-8a37-db5e0420fcde",
   "metadata": {},
   "outputs": [
    {
     "data": {
      "text/plain": [
       "(1,)"
      ]
     },
     "execution_count": 6,
     "metadata": {},
     "output_type": "execute_result"
    }
   ],
   "source": [
    "np.shape( a )"
   ]
  },
  {
   "cell_type": "code",
   "execution_count": 7,
   "id": "2f3bdcdf-abcf-47c2-ae3e-fe8612b5422a",
   "metadata": {},
   "outputs": [
    {
     "data": {
      "text/plain": [
       "array([14])"
      ]
     },
     "execution_count": 7,
     "metadata": {},
     "output_type": "execute_result"
    }
   ],
   "source": [
    "3*a + 5"
   ]
  }
 ],
 "metadata": {
  "kernelspec": {
   "display_name": "Python 3 (ipykernel)",
   "language": "python",
   "name": "python3"
  },
  "language_info": {
   "codemirror_mode": {
    "name": "ipython",
    "version": 3
   },
   "file_extension": ".py",
   "mimetype": "text/x-python",
   "name": "python",
   "nbconvert_exporter": "python",
   "pygments_lexer": "ipython3",
   "version": "3.9.12"
  }
 },
 "nbformat": 4,
 "nbformat_minor": 5
}
