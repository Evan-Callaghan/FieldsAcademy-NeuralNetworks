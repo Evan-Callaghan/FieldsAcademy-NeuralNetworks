{
 "cells": [
  {
   "cell_type": "markdown",
   "id": "f98755ea-e57b-4ae4-8a59-26c44fb6e08f",
   "metadata": {
    "tags": []
   },
   "source": [
    "## Tutorial 1 - Jan. 11, 2023"
   ]
  },
  {
   "cell_type": "code",
   "execution_count": null,
   "id": "56f73368-e18a-4daf-93fd-ae6e0303074e",
   "metadata": {},
   "outputs": [],
   "source": []
  },
  {
   "cell_type": "code",
   "execution_count": 2,
   "id": "2f3bdcdf-abcf-47c2-ae3e-fe8612b5422a",
   "metadata": {},
   "outputs": [
    {
     "name": "stdout",
     "output_type": "stream",
     "text": [
      "starting here\n"
     ]
    }
   ],
   "source": [
    "print('starting here')"
   ]
  }
 ],
 "metadata": {
  "kernelspec": {
   "display_name": "Python 3 (ipykernel)",
   "language": "python",
   "name": "python3"
  },
  "language_info": {
   "codemirror_mode": {
    "name": "ipython",
    "version": 3
   },
   "file_extension": ".py",
   "mimetype": "text/x-python",
   "name": "python",
   "nbconvert_exporter": "python",
   "pygments_lexer": "ipython3",
   "version": "3.9.12"
  }
 },
 "nbformat": 4,
 "nbformat_minor": 5
}
