{
 "cells": [
  {
   "cell_type": "markdown",
   "id": "dc0a812f-9496-4b1d-920d-165a3781d9ab",
   "metadata": {},
   "source": [
    "## Tutorial 4: Synaptic Plasticity and Associative Networks\n",
    "### February 16, 2023"
   ]
  },
  {
   "cell_type": "code",
   "execution_count": 23,
   "id": "bd1f3340-800a-4788-a2bd-5610604383a5",
   "metadata": {},
   "outputs": [],
   "source": [
    "## Importing libraries\n",
    "import numpy as np\n",
    "import matplotlib.pyplot as plt"
   ]
  },
  {
   "cell_type": "markdown",
   "id": "68eb2b3b-b5e6-4ab6-b98d-3812e5bce08f",
   "metadata": {},
   "source": [
    "#### Exercise 1:\n",
    "\n",
    "#### Considering two vectors with entries uniformly distributed between -1 and 1. We normalize each vector so that it has unit norm. Next, creating a plot illustrating the behavior of the inner product of these vectors as the dimension increases."
   ]
  },
  {
   "cell_type": "code",
   "execution_count": 32,
   "id": "07ad769a-686b-4e02-8b6d-09e66d223d44",
   "metadata": {},
   "outputs": [
    {
     "data": {
      "image/png": "[encoded data removed]",
      "text/plain": [
       "<Figure size 432x288 with 1 Axes>"
      ]
     },
     "metadata": {
      "needs_background": "light"
     },
     "output_type": "display_data"
    }
   ],
   "source": [
    "## Defining parameters\n",
    "N = np.arange(2, 200, step = 1)\n",
    "d = np.zeros(len(N))\n",
    "\n",
    "for ii in np.arange(0, len(N)):\n",
    "    \n",
    "    ## Creating the two vectors and normalizing\n",
    "    x1 = 2 * (np.random.rand(N[ii], 1) - 0.5); x1 = x1 / np.linalg.norm(x1)\n",
    "    x2 = 2 * (np.random.rand(N[ii], 1) - 0.5); x2 = x2 / np.linalg.norm(x2)\n",
    "    \n",
    "    ## Computing the dot product\n",
    "    d[ii] = np.matmul(np.transpose(x1), x2)\n",
    "    \n",
    "## Plotting the behaviour\n",
    "plt.plot(N, d, 'k.')\n",
    "plt.xlabel('N')\n",
    "plt.ylabel('Dot Product')\n",
    "plt.show()"
   ]
  },
  {
   "cell_type": "markdown",
   "id": "d103f801-1a8a-4dc0-9843-8f4306ad67d1",
   "metadata": {},
   "source": [
    "#### Exercise 2:\n",
    "\n",
    "#### Creating a Hebbian association between one input vector and an output vector. "
   ]
  },
  {
   "cell_type": "code",
   "execution_count": 45,
   "id": "acd00169-db16-4411-9863-b4295dd500c9",
   "metadata": {},
   "outputs": [
    {
     "name": "stdout",
     "output_type": "stream",
     "text": [
      "[[1.]]\n"
     ]
    }
   ],
   "source": [
    "## Defining parameters\n",
    "N = 100\n",
    "eta = 1\n",
    "\n",
    "## Creating two random vectors and normalizing\n",
    "x = 2 * (np.random.rand(N, 1) - 0.5); x = x / np.linalg.norm(x)\n",
    "y = 2 * (np.random.rand(N, 1) - 0.5); y = y / np.linalg.norm(y)\n",
    "\n",
    "## Constructing Hebbian matrix\n",
    "A = eta * np.outer(y, x)\n",
    "\n",
    "## Computing output\n",
    "y_prime = A @ x\n",
    "\n",
    "## Verifying the output\n",
    "output = np.transpose(y) @ y_prime\n",
    "\n",
    "## Printing output\n",
    "print(output)"
   ]
  },
  {
   "cell_type": "markdown",
   "id": "e07f08fe-f048-413e-83e1-92bfa23bca54",
   "metadata": {},
   "source": [
    "#### Exercise 3:\n",
    "\n",
    "#### Using the Hebbian associative network and verification of successful recovery from Exercise 2, to find how many associations we can store."
   ]
  },
  {
   "cell_type": "code",
   "execution_count": 55,
   "id": "575c63a8-5cb3-4e00-ba94-57e820cba3e5",
   "metadata": {},
   "outputs": [
    {
     "data": {
      "text/plain": [
       "(array([ 1.,  4.,  8., 26., 42., 42., 40., 21., 13.,  3.]),\n",
       " array([0.95697815, 0.96501231, 0.97304646, 0.98108062, 0.98911478,\n",
       "        0.99714894, 1.00518309, 1.01321725, 1.02125141, 1.02928556,\n",
       "        1.03731972]),\n",
       " <BarContainer object of 10 artists>)"
      ]
     },
     "execution_count": 55,
     "metadata": {},
     "output_type": "execute_result"
    },
    {
     "data": {
      "image/png": "[encoded data removed]",
      "text/plain": [
       "<Figure size 432x288 with 1 Axes>"
      ]
     },
     "metadata": {
      "needs_background": "light"
     },
     "output_type": "display_data"
    }
   ],
   "source": [
    "## Defining parameters\n",
    "N = 1000; M = 200; eta = 1\n",
    "\n",
    "## Initializing vectors and Hebbian matrix\n",
    "x = np.zeros((N,M)); y = np.zeros((N,M))\n",
    "A = np.zeros((N,N)); \n",
    "\n",
    "for ii in np.arange(0, M):\n",
    "    \n",
    "    ## Creating two random vectors and normalizing\n",
    "    x[:, ii] = 2 * (np.random.rand(N) - 0.5); x[:, ii] = x[:, ii] / np.linalg.norm(x[:, ii])\n",
    "    y[:, ii] = 2 * (np.random.rand(N) - 0.5); y[:, ii] = y[:, ii] / np.linalg.norm(y[:, ii])\n",
    "    \n",
    "for ii in np.arange(0, M):\n",
    "    \n",
    "    ## Constructing Hebbian matrix\n",
    "    A += eta * np.outer(y[:, ii], x[:, ii])\n",
    "        \n",
    "ell = np.zeros(M)\n",
    "for ii in np.arange(0, M):\n",
    "    y_prime = A @ x[:, ii]\n",
    "    ell[ii] = np.abs(y[:, ii] @ y_prime)\n",
    "\n",
    "plt.hist(ell)"
   ]
  },
  {
   "cell_type": "code",
   "execution_count": null,
   "id": "9bfacaba-c65c-4499-948f-ff719d33367e",
   "metadata": {},
   "outputs": [],
   "source": []
  }
 ],
 "metadata": {
  "kernelspec": {
   "display_name": "Python 3 (ipykernel)",
   "language": "python",
   "name": "python3"
  },
  "language_info": {
   "codemirror_mode": {
    "name": "ipython",
    "version": 3
   },
   "file_extension": ".py",
   "mimetype": "text/x-python",
   "name": "python",
   "nbconvert_exporter": "python",
   "pygments_lexer": "ipython3",
   "version": "3.9.12"
  }
 },
 "nbformat": 4,
 "nbformat_minor": 5
}
