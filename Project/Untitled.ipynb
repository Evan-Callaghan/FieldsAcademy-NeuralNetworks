{
 "cells": [
  {
   "cell_type": "code",
   "execution_count": null,
   "id": "e9eb9371-e380-47fe-a433-dd6392bc401d",
   "metadata": {
    "tags": []
   },
   "outputs": [],
   "source": [
    "import pandas as pd\n",
    "import numpy as np\n",
    "import matplotlib.pyplot as plt\n",
    "from datetime import datetime\n",
    "pd.set_option('display.max_columns', None, 'display.max_rows', None)\n",
    "\n",
    "data = pd.read_csv('pems_sample.csv')\n",
    "data.head()"
   ]
  },
  {
   "cell_type": "code",
   "execution_count": null,
   "id": "46a3d95c-d8fa-4110-8575-298ea437a1c0",
   "metadata": {},
   "outputs": [],
   "source": [
    "pip install pyts"
   ]
  },
  {
   "cell_type": "code",
   "execution_count": null,
   "id": "4e175a5a-27e8-44c1-b289-2ac8cb86f3e9",
   "metadata": {
    "tags": []
   },
   "outputs": [],
   "source": [
    "data.columns"
   ]
  },
  {
   "cell_type": "code",
   "execution_count": null,
   "id": "e73a128b-cc8a-4949-b6fa-2c7351abbd4d",
   "metadata": {},
   "outputs": [],
   "source": []
  },
  {
   "cell_type": "code",
   "execution_count": null,
   "id": "af75cd48-4519-4080-b2c3-6cd6413e14b3",
   "metadata": {
    "tags": []
   },
   "outputs": [],
   "source": [
    "data.shape"
   ]
  },
  {
   "cell_type": "code",
   "execution_count": null,
   "id": "15855ac8-db72-4008-bd92-a5d90847b14d",
   "metadata": {
    "tags": []
   },
   "outputs": [],
   "source": [
    "data['Hour'] = pd.to_datetime(data['Hour'])\n",
    "data = data.drop(columns = ['# Lane Points', '% Observed'])"
   ]
  },
  {
   "cell_type": "code",
   "execution_count": null,
   "id": "bf09dbc0-b890-43da-bf28-e0afa5f38667",
   "metadata": {
    "tags": []
   },
   "outputs": [],
   "source": [
    "plt.figure(figsize = (12, 6))\n",
    "plt.plot(data['Hour'], data['1108509-ML'], color = 'red')\n",
    "plt.plot(data['Hour'], data['716017-ML'], color = 'gold')\n",
    "plt.plot(data['Hour'], data['1205517-ML'], color = 'steelblue')\n",
    "plt.grid()\n",
    "plt.show()"
   ]
  },
  {
   "cell_type": "code",
   "execution_count": null,
   "id": "4f3607ce-992f-4bf9-83dd-3169410ec393",
   "metadata": {
    "tags": []
   },
   "outputs": [],
   "source": [
    "pip install pyts"
   ]
  },
  {
   "cell_type": "code",
   "execution_count": null,
   "id": "8a1adf5b-d6d8-4e5d-8cad-f8f0ebcb24ec",
   "metadata": {
    "tags": []
   },
   "outputs": [],
   "source": [
    "from pyts.image import GramianAngularField\n",
    "import matplotlib.pyplot as plt\n",
    "\n",
    "#Xtrain, Xtest = get_some_data() # both N x T time series samples\n",
    "Xtrain = pd.concat([data['1108509-ML'], data['716017-ML'], data['1205517-ML'], data['1125314-ML']], axis = 1)\n",
    "\n",
    "\n",
    "gaf = GramianAngularField(image_size = 1)\n",
    "im_train = gaf.fit_transform(Xtrain)\n",
    "#im_test = gaf.transform(Xtest)\n",
    "\n",
    "# plot one image\n",
    "plt.imshow(im_train[0])\n",
    "plt.show()"
   ]
  },
  {
   "cell_type": "code",
   "execution_count": null,
   "id": "f8edda4f-df64-4d78-a2c1-ea6d84bb798d",
   "metadata": {
    "tags": []
   },
   "outputs": [],
   "source": [
    "im_train"
   ]
  },
  {
   "cell_type": "code",
   "execution_count": null,
   "id": "0ec37ba1-b46b-4ebc-8c15-9440ae5130af",
   "metadata": {},
   "outputs": [],
   "source": []
  },
  {
   "cell_type": "code",
   "execution_count": null,
   "id": "ffc5d698-4116-47bf-aaf3-004cb3b62e4f",
   "metadata": {},
   "outputs": [],
   "source": []
  },
  {
   "cell_type": "code",
   "execution_count": null,
   "id": "60df2e47-aadf-4192-a9ad-77eaeff50a10",
   "metadata": {},
   "outputs": [],
   "source": []
  },
  {
   "cell_type": "code",
   "execution_count": null,
   "id": "50f0548b-6a3b-4dd7-a7e3-29efdb93f9fc",
   "metadata": {},
   "outputs": [],
   "source": []
  },
  {
   "cell_type": "code",
   "execution_count": null,
   "id": "cec99dba-ef0a-4d9d-ad35-572f0e908d43",
   "metadata": {},
   "outputs": [],
   "source": []
  },
  {
   "cell_type": "markdown",
   "id": "4d9cfd2a-73e8-49f1-abc7-f3373485676a",
   "metadata": {},
   "source": [
    "## Exploration"
   ]
  },
  {
   "cell_type": "code",
   "execution_count": null,
   "id": "8487a663-76e6-42bf-b3b2-9de5afaba7cd",
   "metadata": {
    "tags": []
   },
   "outputs": [],
   "source": [
    "pip install torch"
   ]
  },
  {
   "cell_type": "code",
   "execution_count": null,
   "id": "3015a196-1ab0-40cd-abca-cec01b7854d0",
   "metadata": {
    "tags": []
   },
   "outputs": [],
   "source": [
    "pip install torchvision"
   ]
  },
  {
   "cell_type": "code",
   "execution_count": 1,
   "id": "73faa187-2e53-49f7-8313-8be350ec8d49",
   "metadata": {
    "tags": []
   },
   "outputs": [],
   "source": [
    "## Importing libraries\n",
    "import numpy as np\n",
    "import torch\n",
    "\n",
    "## Step 1: Prepping data set\n",
    "import torchvision\n",
    "import torchvision.transforms as transforms\n",
    "import matplotlib.pyplot as plt\n",
    "\n",
    "## Step 2: Building the model\n",
    "import torch.nn as nn\n",
    "import torch.nn.functional as F\n",
    "\n",
    "## Step 3: Training the model\n",
    "import torch.optim as optim"
   ]
  },
  {
   "cell_type": "markdown",
   "id": "d491ae47-af4c-4a5d-a63d-baa426fa6acb",
   "metadata": {},
   "source": [
    "### Step 1: Preparing the data set\n",
    "- Splitting the images into train and test sets\n",
    "- Preprocessing the images (normalizing speeds up learning)"
   ]
  },
  {
   "cell_type": "code",
   "execution_count": 2,
   "id": "17a6bd83-6c37-4545-b1aa-b064415a4f2c",
   "metadata": {
    "tags": []
   },
   "outputs": [
    {
     "name": "stdout",
     "output_type": "stream",
     "text": [
      "Files already downloaded and verified\n",
      "Files already downloaded and verified\n"
     ]
    }
   ],
   "source": [
    "## Downloading, splitting, and preprocessing the images\n",
    "transform = transforms.Compose(\n",
    "    [transforms.ToTensor(), \n",
    "     transforms.Normalize((0.5, 0.5, 0.5), (0.5, 0.5, 0.5))])\n",
    "\n",
    "trainset = torchvision.datasets.CIFAR10(root = './data', train = True, download = True, transform = transform)\n",
    "\n",
    "trainloader = torch.utils.data.DataLoader(trainset, batch_size = 1, shuffle = True, num_workers = 2)\n",
    "\n",
    "testset = torchvision.datasets.CIFAR10(root = './data', train = False, download = True, transform = transform)\n",
    "\n",
    "testloader = torch.utils.data.DataLoader(testset, batch_size = 1, shuffle = False, num_workers = 2)\n",
    "\n",
    "classes = ('plane', 'car', 'bird', 'cat', 'deer', 'dog', 'frog', 'horse', 'ship', 'truck')"
   ]
  },
  {
   "cell_type": "code",
   "execution_count": 4,
   "id": "0122cdf0-be0c-4e93-abb7-e1fb7259d47b",
   "metadata": {
    "tags": []
   },
   "outputs": [
    {
     "data": {
      "image/png": "[encoded data removed]",
      "text/plain": [
       "<Figure size 640x480 with 1 Axes>"
      ]
     },
     "metadata": {},
     "output_type": "display_data"
    },
    {
     "ename": "IndexError",
     "evalue": "index 1 is out of bounds for dimension 0 with size 1",
     "output_type": "error",
     "traceback": [
      "\u001b[0;31m---------------------------------------------------------------------------\u001b[0m",
      "\u001b[0;31mIndexError\u001b[0m                                Traceback (most recent call last)",
      "Cell \u001b[0;32mIn[4], line 17\u001b[0m\n\u001b[1;32m     14\u001b[0m imshow(torchvision\u001b[38;5;241m.\u001b[39mutils\u001b[38;5;241m.\u001b[39mmake_grid(images))\n\u001b[1;32m     16\u001b[0m \u001b[38;5;66;03m## Printing image labels\u001b[39;00m\n\u001b[0;32m---> 17\u001b[0m \u001b[38;5;28mprint\u001b[39m(\u001b[38;5;124;43m'\u001b[39;49m\u001b[38;5;124;43m \u001b[39;49m\u001b[38;5;124;43m'\u001b[39;49m\u001b[38;5;241;43m.\u001b[39;49m\u001b[43mjoin\u001b[49m\u001b[43m(\u001b[49m\u001b[38;5;124;43m'\u001b[39;49m\u001b[38;5;132;43;01m%5s\u001b[39;49;00m\u001b[38;5;124;43m'\u001b[39;49m\u001b[43m \u001b[49m\u001b[38;5;241;43m%\u001b[39;49m\u001b[43m \u001b[49m\u001b[43mclasses\u001b[49m\u001b[43m[\u001b[49m\u001b[43mlabels\u001b[49m\u001b[43m[\u001b[49m\u001b[43mj\u001b[49m\u001b[43m]\u001b[49m\u001b[43m]\u001b[49m\u001b[43m \u001b[49m\u001b[38;5;28;43;01mfor\u001b[39;49;00m\u001b[43m \u001b[49m\u001b[43mj\u001b[49m\u001b[43m \u001b[49m\u001b[38;5;129;43;01min\u001b[39;49;00m\u001b[43m \u001b[49m\u001b[38;5;28;43mrange\u001b[39;49m\u001b[43m(\u001b[49m\u001b[38;5;241;43m4\u001b[39;49m\u001b[43m)\u001b[49m\u001b[43m)\u001b[49m)\n",
      "Cell \u001b[0;32mIn[4], line 17\u001b[0m, in \u001b[0;36m<genexpr>\u001b[0;34m(.0)\u001b[0m\n\u001b[1;32m     14\u001b[0m imshow(torchvision\u001b[38;5;241m.\u001b[39mutils\u001b[38;5;241m.\u001b[39mmake_grid(images))\n\u001b[1;32m     16\u001b[0m \u001b[38;5;66;03m## Printing image labels\u001b[39;00m\n\u001b[0;32m---> 17\u001b[0m \u001b[38;5;28mprint\u001b[39m(\u001b[38;5;124m'\u001b[39m\u001b[38;5;124m \u001b[39m\u001b[38;5;124m'\u001b[39m\u001b[38;5;241m.\u001b[39mjoin(\u001b[38;5;124m'\u001b[39m\u001b[38;5;132;01m%5s\u001b[39;00m\u001b[38;5;124m'\u001b[39m \u001b[38;5;241m%\u001b[39m classes[\u001b[43mlabels\u001b[49m\u001b[43m[\u001b[49m\u001b[43mj\u001b[49m\u001b[43m]\u001b[49m] \u001b[38;5;28;01mfor\u001b[39;00m j \u001b[38;5;129;01min\u001b[39;00m \u001b[38;5;28mrange\u001b[39m(\u001b[38;5;241m4\u001b[39m)))\n",
      "\u001b[0;31mIndexError\u001b[0m: index 1 is out of bounds for dimension 0 with size 1"
     ]
    }
   ],
   "source": [
    "## Function to show an image\n",
    "def imshow(img):\n",
    "    img = img / 2 + 0.5     # unnormalize\n",
    "    npimg = img.numpy()\n",
    "    plt.imshow(np.transpose(npimg, (1, 2, 0)))\n",
    "    plt.ion()\n",
    "    plt.show()\n",
    "\n",
    "## Getting some random training images\n",
    "dataiter = iter(trainloader)\n",
    "images, labels = next(dataiter)\n",
    "\n",
    "## Showing images\n",
    "imshow(torchvision.utils.make_grid(images))\n",
    "\n",
    "## Printing image labels\n",
    "print(' '.join('%5s' % classes[labels[j]] for j in range(4)))"
   ]
  },
  {
   "cell_type": "code",
   "execution_count": null,
   "id": "1c1db2ce-d1eb-473d-ab3c-75aeeecf33a6",
   "metadata": {
    "tags": []
   },
   "outputs": [],
   "source": [
    "for i, data in enumerate(trainloader, 0):\n",
    "    \n",
    "    # get the inputs; data is a list of [inputs, labels]\n",
    "    inputs, labels = data\n",
    "    \n",
    "    imshow(torchvision.utils.make_grid(inputs))"
   ]
  },
  {
   "cell_type": "code",
   "execution_count": null,
   "id": "bd895538-dd73-420f-97ef-d535db9922c4",
   "metadata": {
    "tags": []
   },
   "outputs": [],
   "source": [
    "torchvision.utils.make_grid(trainloader)"
   ]
  },
  {
   "cell_type": "code",
   "execution_count": null,
   "id": "cf28b9ba-bd77-4b14-97e5-fd6fa2fb5e69",
   "metadata": {},
   "outputs": [],
   "source": [
    "from PIL import Image"
   ]
  },
  {
   "cell_type": "code",
   "execution_count": 17,
   "id": "c4d20563-ffc1-4d9c-8843-35e95aa9cfa1",
   "metadata": {
    "tags": []
   },
   "outputs": [
    {
     "data": {
      "image/png": "[encoded data removed]",
      "text/plain": [
       "<PIL.Image.Image image mode=RGB size=256x256>"
      ]
     },
     "metadata": {},
     "output_type": "display_data"
    }
   ],
   "source": [
    "import numpy\n",
    "\n",
    "data = numpy.zeros((256, 256, 3), dtype=numpy.uint8)\n",
    "\n",
    "data[128, 128] = [255, 0, 0]\n",
    "data[100, 100] = [0, 255, 0]\n",
    "data[200, 200] = [0, 0, 255]\n",
    "\n",
    "for i in range(0, 50):\n",
    "    data[i, 0:50] = [200, 0, 0]\n",
    "image = Image.fromarray(data)\n",
    "\n",
    "image.show()"
   ]
  },
  {
   "cell_type": "markdown",
   "id": "c2fcea2e-cf93-4b50-b0de-0a07294b3328",
   "metadata": {},
   "source": [
    "### Step 2: Building the network"
   ]
  },
  {
   "cell_type": "code",
   "execution_count": null,
   "id": "86ba1fb1-ffbc-45c6-a153-121cd5795e24",
   "metadata": {},
   "outputs": [],
   "source": [
    "## Defining the network\n",
    "class Net(nn.Module):\n",
    "    def __init__(self):\n",
    "        super(Net, self).__init__()\n",
    "        self.conv1 = nn.Conv2d(3, 6, 5)   # first convolutional layer\n",
    "        self.pool = nn.MaxPool2d(2, 2)    # max pooling layer\n",
    "        self.conv2 = nn.Conv2d(6, 16, 5)\n",
    "        self.fc1 = nn.Linear(16 * 5 * 5, 120)\n",
    "        self.fc2 = nn.Linear(120, 84)\n",
    "        self.fc3 = nn.Linear(84, 10)\n",
    "\n",
    "    def forward(self, x):\n",
    "        x = self.pool(F.relu(self.conv1(x)))\n",
    "        x = self.pool(F.relu(self.conv2(x)))\n",
    "        x = x.view(-1, 16 * 5 * 5)\n",
    "        x = F.relu(self.fc1(x))\n",
    "        x = F.relu(self.fc2(x))\n",
    "        x = self.fc3(x)\n",
    "        return x\n",
    "\n",
    "net = Net()"
   ]
  },
  {
   "cell_type": "code",
   "execution_count": null,
   "id": "e9cd6f7c-e798-446d-b8ca-b83e7fd804d5",
   "metadata": {},
   "outputs": [],
   "source": [
    "net"
   ]
  },
  {
   "cell_type": "markdown",
   "id": "40a98f11-065c-49c4-a66e-6f7873eb56d6",
   "metadata": {},
   "source": [
    "### Step 3: Training the network"
   ]
  },
  {
   "cell_type": "code",
   "execution_count": null,
   "id": "f8de2ec8-63f4-4903-8872-1bc3d6033731",
   "metadata": {},
   "outputs": [],
   "source": [
    "## Defining loss function and optimizer (cross-entropy loss and SGD with momentum)\n",
    "criterion = nn.CrossEntropyLoss()\n",
    "optimizer = optim.SGD(net.parameters(), lr = 0.001, momentum = 0.9)\n",
    "\n",
    "## Training the model\n",
    "for epoch in range(5):  # loop over the dataset multiple times (5 epochs)\n",
    "\n",
    "    running_loss = 0.0\n",
    "    for i, data in enumerate(trainloader, 0):\n",
    "        # get the inputs; data is a list of [inputs, labels]\n",
    "        inputs, labels = data\n",
    "\n",
    "        # zero the parameter gradients\n",
    "        optimizer.zero_grad()\n",
    "\n",
    "        # forward + backward + optimize\n",
    "        outputs = net(inputs)\n",
    "        loss = criterion(outputs, labels)\n",
    "        loss.backward()\n",
    "        optimizer.step()\n",
    "\n",
    "        # print statistics\n",
    "        running_loss += loss.item()\n",
    "        if i % 2000 == 1999:    # print every 2000 mini-batches\n",
    "            print('[%d, %5d] loss: %.3f' %\n",
    "                  (epoch + 1, i + 1, running_loss / 2000))\n",
    "            running_loss = 0.0\n",
    "\n",
    "print('Finished Training')\n",
    "\n",
    "# save trained model\n",
    "PATH = './cifar_net.pth'\n",
    "torch.save(net.state_dict(), PATH)"
   ]
  },
  {
   "cell_type": "markdown",
   "id": "a581ab6b-e22f-475a-8246-73275f175754",
   "metadata": {},
   "source": [
    "### Testing the network"
   ]
  },
  {
   "cell_type": "code",
   "execution_count": null,
   "id": "f0f01a82-808d-410d-a09a-1cc2edc94925",
   "metadata": {},
   "outputs": [],
   "source": [
    "## Displaying images from test set\n",
    "dataiter = iter(testloader)\n",
    "images, labels = next(dataiter)\n",
    "\n",
    "## Printing images\n",
    "imshow(torchvision.utils.make_grid(images))\n",
    "print('GroundTruth: ', ' '.join('%5s' % classes[labels[j]] for j in range(4)))\n",
    "\n",
    "## Loading trained network (only needed if you exited ipython after training)\n",
    "net = Net()\n",
    "net.load_state_dict(torch.load(PATH))\n",
    "\n",
    "## Getting object categories predicted by the network\n",
    "outputs = net(images)\n",
    "_, predicted = torch.max(outputs, 1)\n",
    "\n",
    "print('Predicted: ', ' '.join('%5s' % classes[predicted[j]]\n",
    "                              for j in range(4)))\n",
    "\n",
    "## Computing accuracy on the full test data set (10,000 images)\n",
    "correct = 0\n",
    "total = 0\n",
    "with torch.no_grad():\n",
    "    for data in testloader:\n",
    "        images, labels = data\n",
    "        outputs = net(images)\n",
    "        _, predicted = torch.max(outputs.data, 1)\n",
    "        total += labels.size(0)\n",
    "        correct += (predicted == labels).sum().item()\n",
    "\n",
    "print('Accuracy of the network on the 10000 test images: %d %%' % (100 * correct / total))\n",
    "\n",
    "## Investigating performance per object categoryclass_correct = list(0. for i in range(10))\n",
    "class_correct = list(0. for i in range(10))\n",
    "class_total = list(0. for i in range(10))\n",
    "with torch.no_grad():\n",
    "    for data in testloader:\n",
    "        images, labels = data\n",
    "        outputs = net(images)\n",
    "        _, predicted = torch.max(outputs, 1)\n",
    "        c = (predicted == labels).squeeze()\n",
    "        for i in range(4):\n",
    "            label = labels[i]\n",
    "            class_correct[label] += c[i].item()\n",
    "            class_total[label] += 1\n",
    "\n",
    "for i in range(10):\n",
    "    print('Accuracy of %5s : %2d %%' % (classes[i], 100 * class_correct[i] / class_total[i]))"
   ]
  },
  {
   "cell_type": "code",
   "execution_count": null,
   "id": "712b5360-e7a6-4c33-89d5-df5cb91c080b",
   "metadata": {},
   "outputs": [],
   "source": []
  },
  {
   "cell_type": "code",
   "execution_count": null,
   "id": "17b39aca-533c-447e-9d30-691e1ad4992b",
   "metadata": {},
   "outputs": [],
   "source": []
  }
 ],
 "metadata": {
  "kernelspec": {
   "display_name": "conda_python3",
   "language": "python",
   "name": "conda_python3"
  },
  "language_info": {
   "codemirror_mode": {
    "name": "ipython",
    "version": 3
   },
   "file_extension": ".py",
   "mimetype": "text/x-python",
   "name": "python",
   "nbconvert_exporter": "python",
   "pygments_lexer": "ipython3",
   "version": "3.10.8"
  }
 },
 "nbformat": 4,
 "nbformat_minor": 5
}
