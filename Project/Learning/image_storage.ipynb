{
 "cells": [
  {
   "cell_type": "markdown",
   "id": "28997d38-9b97-4f92-bd33-99a5d72dc9ab",
   "metadata": {},
   "source": [
    "### Downloading the CIFAR10 data"
   ]
  },
  {
   "cell_type": "code",
   "execution_count": null,
   "id": "bc6d17e1-b35e-4416-b2ed-f59a8cfd0813",
   "metadata": {
    "tags": []
   },
   "outputs": [],
   "source": [
    "pip install Pillow "
   ]
  },
  {
   "cell_type": "code",
   "execution_count": 11,
   "id": "7bdfd783-f4ae-4a6f-b59d-f019cf4ca210",
   "metadata": {
    "tags": []
   },
   "outputs": [
    {
     "name": "stdout",
     "output_type": "stream",
     "text": [
      "Loaded CIFAR-10 training set:\n",
      " - np.shape(images)     (50000, 32, 32, 3)\n",
      " - np.shape(labels)     (50000,)\n"
     ]
    }
   ],
   "source": [
    "import numpy as np\n",
    "import pickle\n",
    "from pathlib import Path\n",
    "from PIL import Image\n",
    "import matplotlib.pyplot as plt\n",
    "import csv\n",
    "\n",
    "# Path to the unzipped CIFAR data\n",
    "data_dir = Path(\"data/cifar-10-batches-py/\")\n",
    "\n",
    "# Unpickle function provided by the CIFAR hosts\n",
    "def unpickle(file):\n",
    "    with open(file, \"rb\") as fo:\n",
    "        dict = pickle.load(fo, encoding=\"bytes\")\n",
    "    return dict\n",
    "\n",
    "images, labels = [], []\n",
    "for batch in data_dir.glob(\"data_batch_*\"):\n",
    "    batch_data = unpickle(batch)\n",
    "    for i, flat_im in enumerate(batch_data[b\"data\"]):\n",
    "        im_channels = []\n",
    "        # Each image is flattened, with channels in order of R, G, B\n",
    "        for j in range(3):\n",
    "            im_channels.append(\n",
    "                flat_im[j * 1024 : (j + 1) * 1024].reshape((32, 32))\n",
    "            )\n",
    "        # Reconstruct the original image\n",
    "        images.append(np.dstack((im_channels)))\n",
    "        # Save the label\n",
    "        labels.append(batch_data[b\"labels\"][i])\n",
    "\n",
    "print(\"Loaded CIFAR-10 training set:\")\n",
    "print(f\" - np.shape(images)     {np.shape(images)}\")\n",
    "print(f\" - np.shape(labels)     {np.shape(labels)}\")"
   ]
  },
  {
   "cell_type": "code",
   "execution_count": 12,
   "id": "d8651b5f-de09-4637-856f-dc1a125d7c28",
   "metadata": {
    "tags": []
   },
   "outputs": [],
   "source": [
    "disk_dir = Path(\"data/disk/\")\n",
    "disk_dir.mkdir(parents=True, exist_ok=True)"
   ]
  },
  {
   "cell_type": "markdown",
   "id": "f2f17a7d-ec09-4088-b111-f108e347a540",
   "metadata": {},
   "source": [
    "### Storing a single image to disk"
   ]
  },
  {
   "cell_type": "code",
   "execution_count": null,
   "id": "cc52872a-57cb-4708-ae6e-11caee13ea42",
   "metadata": {
    "tags": []
   },
   "outputs": [],
   "source": [
    "def store_single_disk(image, image_id, label):\n",
    "    Image.fromarray(image).save(disk_dir / f\"{image_id}.png\")\n",
    "\n",
    "    with open(disk_dir / f\"{image_id}.csv\", \"wt\") as csvfile:\n",
    "        writer = csv.writer(csvfile, delimiter=\" \", quotechar=\"|\", quoting=csv.QUOTE_MINIMAL)\n",
    "        writer.writerow([label])\n",
    "        \n",
    "\n",
    "image = images[0]; label = labels[0]\n",
    "store_single_disk(image, 0, label)"
   ]
  },
  {
   "cell_type": "markdown",
   "id": "37b73f24-f6c5-4fbf-a80f-bcb6b6c98c5f",
   "metadata": {},
   "source": [
    "### Storing many images to disk"
   ]
  },
  {
   "cell_type": "code",
   "execution_count": 13,
   "id": "69185471-cc98-4abe-9da6-fd30805712cd",
   "metadata": {
    "tags": []
   },
   "outputs": [],
   "source": [
    "from pathlib import Path\n",
    "from PIL import Image\n",
    "import csv\n",
    "\n",
    "disk_dir = Path(\"data/disk/\")\n",
    "disk_dir.mkdir(parents=True, exist_ok=True)\n",
    "\n",
    "def store_many_disk(images, labels):\n",
    "\n",
    "    ## Saving the number of images\n",
    "    num_images = len(images)\n",
    "\n",
    "    ## Saving images one by one\n",
    "    for i, image in enumerate(images):\n",
    "        Image.fromarray(image).save(disk_dir / f\"{i}.png\")\n",
    "\n",
    "    ## Saving all the labels to the csv file\n",
    "    with open(disk_dir / f\"{'image_labels'}.csv\", \"w\") as csvfile:\n",
    "        writer = csv.writer(csvfile, delimiter=\" \", quotechar=\"|\", quoting=csv.QUOTE_MINIMAL)\n",
    "        \n",
    "        for label in labels:\n",
    "            writer.writerow([label])\n",
    "            \n",
    "## Experimenting\n",
    "cutoff = 100\n",
    "images_ = images[:cutoff]; labels_ = labels[:cutoff]\n",
    "store_many_disk(images_, labels_)"
   ]
  },
  {
   "cell_type": "markdown",
   "id": "bfa399f6-90ec-490a-a146-a3a0aacb745f",
   "metadata": {},
   "source": [
    "### Reading a single image from disk"
   ]
  },
  {
   "cell_type": "code",
   "execution_count": null,
   "id": "ceb67393-f171-4e64-b944-cce78882ab03",
   "metadata": {
    "tags": []
   },
   "outputs": [],
   "source": [
    "def read_single_disk(image_id):\n",
    "    \n",
    "    image = np.array(Image.open(disk_dir / f\"{image_id}.png\"), dtype = 'int')\n",
    "\n",
    "    with open(disk_dir / f\"{image_id}.csv\", \"r\") as csvfile:\n",
    "        reader = csv.reader(csvfile, delimiter=\" \", quotechar=\"|\", quoting=csv.QUOTE_MINIMAL)\n",
    "        label = int(next(reader)[0])\n",
    "    return image, label\n",
    "    \n",
    "image = images[0]; label = labels[0]\n",
    "img = read_single_disk(0)"
   ]
  },
  {
   "cell_type": "code",
   "execution_count": null,
   "id": "6bb68e2f-a626-452b-877c-25f4f752898f",
   "metadata": {
    "tags": []
   },
   "outputs": [],
   "source": [
    "plt.imshow(img[0])"
   ]
  },
  {
   "cell_type": "markdown",
   "id": "eea5af3d-a0d6-4e84-9249-ab1566d143ad",
   "metadata": {},
   "source": [
    "### Reading many images from disk"
   ]
  },
  {
   "cell_type": "code",
   "execution_count": 14,
   "id": "3753102d-f217-4b09-a3cf-5255e36ca85e",
   "metadata": {
    "tags": []
   },
   "outputs": [],
   "source": [
    "def read_many_disk(num_images):\n",
    "    images, labels = [], []\n",
    "\n",
    "    for image_id in range(num_images):\n",
    "        images.append(np.array(Image.open(disk_dir / f\"{image_id}.png\")))\n",
    "\n",
    "    with open(disk_dir / f\"{'image_labels'}.csv\", \"r\") as csvfile:\n",
    "        reader = csv.reader(csvfile, delimiter=\" \", quotechar=\"|\", quoting=csv.QUOTE_MINIMAL)\n",
    "        for row in reader:\n",
    "            labels.append(int(row[0]))\n",
    "    return images, labels\n",
    "        \n",
    "num_images = cutoff\n",
    "imgs = read_many_disk(cutoff)"
   ]
  },
  {
   "cell_type": "code",
   "execution_count": 21,
   "id": "34fecd87-85e5-47fa-bb00-6a47469efae8",
   "metadata": {
    "tags": []
   },
   "outputs": [
    {
     "data": {
      "text/plain": [
       "<matplotlib.image.AxesImage at 0x7f88755a62c0>"
      ]
     },
     "execution_count": 21,
     "metadata": {},
     "output_type": "execute_result"
    },
    {
     "data": {
      "image/png": "[encoded data removed]",
      "text/plain": [
       "<Figure size 640x480 with 1 Axes>"
      ]
     },
     "metadata": {},
     "output_type": "display_data"
    }
   ],
   "source": [
    "plt.imshow(imgs[0][60])"
   ]
  }
 ],
 "metadata": {
  "kernelspec": {
   "display_name": "conda_python3",
   "language": "python",
   "name": "conda_python3"
  },
  "language_info": {
   "codemirror_mode": {
    "name": "ipython",
    "version": 3
   },
   "file_extension": ".py",
   "mimetype": "text/x-python",
   "name": "python",
   "nbconvert_exporter": "python",
   "pygments_lexer": "ipython3",
   "version": "3.10.8"
  }
 },
 "nbformat": 4,
 "nbformat_minor": 5
}
