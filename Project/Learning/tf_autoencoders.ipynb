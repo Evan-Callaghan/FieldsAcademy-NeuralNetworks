{
 "cells": [
  {
   "cell_type": "markdown",
   "id": "08885335-c719-418c-8a36-7e760f5a1674",
   "metadata": {},
   "source": [
    "### Learning about autoencoders in Tensorflow"
   ]
  },
  {
   "cell_type": "code",
   "execution_count": null,
   "id": "7f69437b-2b7d-4d85-871f-26ae0ab3ede2",
   "metadata": {
    "tags": []
   },
   "outputs": [],
   "source": [
    "pip install tensorflow"
   ]
  },
  {
   "cell_type": "code",
   "execution_count": null,
   "id": "b3791c5b-c9ed-419b-81e2-f916ee811673",
   "metadata": {
    "tags": []
   },
   "outputs": [],
   "source": [
    "## Importing libraries\n",
    "import matplotlib.pyplot as plt\n",
    "import numpy as np\n",
    "import pandas as pd\n",
    "import tensorflow as tf\n",
    "\n",
    "from sklearn.metrics import accuracy_score, precision_score, recall_score\n",
    "from sklearn.model_selection import train_test_split\n",
    "from tensorflow.keras import layers, losses\n",
    "from tensorflow.keras.datasets import fashion_mnist\n",
    "from tensorflow.keras.models import Model"
   ]
  },
  {
   "cell_type": "code",
   "execution_count": null,
   "id": "6c3be33c-df6c-482d-b892-6562b6be744d",
   "metadata": {
    "tags": []
   },
   "outputs": [],
   "source": [
    "(x_train, _), (x_test, _) = fashion_mnist.load_data()\n",
    "\n",
    "x_train = x_train.astype('float32') / 255.\n",
    "x_test = x_test.astype('float32') / 255.\n",
    "\n",
    "print (x_train.shape)\n",
    "print (x_test.shape)"
   ]
  },
  {
   "cell_type": "code",
   "execution_count": null,
   "id": "25432a91-68a3-4af5-93db-4c368da3dc38",
   "metadata": {
    "tags": []
   },
   "outputs": [],
   "source": [
    "latent_dim = 64 \n",
    "\n",
    "class Autoencoder(Model):\n",
    "    def __init__(self, latent_dim):\n",
    "        super(Autoencoder, self).__init__()\n",
    "        self.latent_dim = latent_dim   \n",
    "        self.encoder = tf.keras.Sequential([\n",
    "            layers.Flatten(),\n",
    "            layers.Dense(latent_dim, activation='relu'),\n",
    "        ])\n",
    "        self.decoder = tf.keras.Sequential([\n",
    "            layers.Dense(784, activation='sigmoid'),\n",
    "            layers.Reshape((28, 28))\n",
    "        ])\n",
    "    def call(self, x):\n",
    "        encoded = self.encoder(x)\n",
    "        decoded = self.decoder(encoded)\n",
    "        return decoded\n",
    "\n",
    "autoencoder = Autoencoder(latent_dim)\n",
    "autoencoder.compile(optimizer='adam', loss=losses.MeanSquaredError())\n",
    "autoencoder.fit(x_train, x_train, epochs=2, shuffle=True, validation_data=(x_test, x_test))"
   ]
  },
  {
   "cell_type": "code",
   "execution_count": null,
   "id": "84ea7514-608d-44b8-a81f-b82b9af08165",
   "metadata": {
    "tags": []
   },
   "outputs": [],
   "source": [
    "encoded_imgs = autoencoder.encoder(x_test).numpy()\n",
    "decoded_imgs = autoencoder.decoder(encoded_imgs).numpy()"
   ]
  },
  {
   "cell_type": "code",
   "execution_count": null,
   "id": "406fba21-16d2-47b6-8ded-27ae0c46c5bc",
   "metadata": {
    "tags": []
   },
   "outputs": [],
   "source": [
    "autoencoder.encoder.summary()"
   ]
  },
  {
   "cell_type": "code",
   "execution_count": null,
   "id": "0f39ddd8-528b-443e-a162-6f3b13ef2639",
   "metadata": {
    "tags": []
   },
   "outputs": [],
   "source": [
    "n = 10\n",
    "plt.figure(figsize=(12, 4))\n",
    "\n",
    "for i in range(n):\n",
    "    # display original\n",
    "    ax = plt.subplot(2, n, i + 1)\n",
    "    plt.imshow(x_test[i])\n",
    "    plt.title(\"original\", fontsize = 8)\n",
    "    plt.gray()\n",
    "    ax.get_xaxis().set_visible(False)\n",
    "    ax.get_yaxis().set_visible(False)\n",
    "    \n",
    "    # display reconstruction\n",
    "    ax = plt.subplot(2, n, i + 1 + n)\n",
    "    plt.imshow(decoded_imgs[i])\n",
    "    plt.title(\"reconstructed\", fontsize = 8)\n",
    "    plt.gray()\n",
    "    ax.get_xaxis().set_visible(False)\n",
    "    ax.get_yaxis().set_visible(False)\n",
    "plt.show()"
   ]
  },
  {
   "cell_type": "code",
   "execution_count": null,
   "id": "d3cfa793-3a50-4db1-9566-94049773b2e0",
   "metadata": {},
   "outputs": [],
   "source": []
  },
  {
   "cell_type": "code",
   "execution_count": null,
   "id": "48b48bd4-d2da-41ad-b897-18263b881e09",
   "metadata": {},
   "outputs": [],
   "source": []
  },
  {
   "cell_type": "code",
   "execution_count": null,
   "id": "58d4b1fb-ef38-4670-8f5c-18a1ec996431",
   "metadata": {},
   "outputs": [],
   "source": []
  },
  {
   "cell_type": "code",
   "execution_count": null,
   "id": "e60a32a4-419b-4610-b93f-7eb8839f7975",
   "metadata": {},
   "outputs": [],
   "source": []
  },
  {
   "cell_type": "code",
   "execution_count": null,
   "id": "f2ed7d5d-8ad4-4a1c-bacb-7f9bb271eb22",
   "metadata": {},
   "outputs": [],
   "source": []
  },
  {
   "cell_type": "code",
   "execution_count": null,
   "id": "135695e1-a3bc-4197-90ba-3cd92cb7f982",
   "metadata": {},
   "outputs": [],
   "source": []
  },
  {
   "cell_type": "code",
   "execution_count": null,
   "id": "980f4eb3-6b04-4563-8157-2de955c52ea8",
   "metadata": {},
   "outputs": [],
   "source": []
  },
  {
   "cell_type": "code",
   "execution_count": null,
   "id": "f5dc606f-5a30-418a-804e-3a1dd348836e",
   "metadata": {},
   "outputs": [],
   "source": []
  },
  {
   "cell_type": "code",
   "execution_count": null,
   "id": "24a00f3e-8f87-455f-ba48-ebef8a1f9db3",
   "metadata": {
    "tags": []
   },
   "outputs": [],
   "source": [
    "# example of using the upsampling layer\n",
    "from numpy import asarray\n",
    "from keras.models import Sequential\n",
    "from keras.layers import UpSampling2D\n",
    "\n",
    "# define input data\n",
    "X = asarray([[1, 2],\n",
    " [3, 4]])"
   ]
  },
  {
   "cell_type": "code",
   "execution_count": null,
   "id": "2c3411e8-c966-4b65-bc96-19f1bc478545",
   "metadata": {
    "tags": []
   },
   "outputs": [],
   "source": [
    "X"
   ]
  },
  {
   "cell_type": "code",
   "execution_count": null,
   "id": "5f1cb0c5-afe0-43a8-97ff-64d6d25f8da4",
   "metadata": {
    "tags": []
   },
   "outputs": [],
   "source": [
    "# reshape input data into one sample a sample with a channel\n",
    "X = X.reshape((1, 2, 2, 1))\n",
    "\n",
    "# define model\n",
    "model = Sequential()\n",
    "model.add(UpSampling2D(input_shape=(2, 2, 1)))\n",
    "\n",
    "# summarize the model\n",
    "model.summary()\n",
    "# make a prediction with the model\n",
    "yhat = model.predict(X)\n",
    "print(yhat)\n",
    "# reshape output to remove channel to make printing easier\n",
    "yhat = yhat.reshape((4, 4))\n",
    "# summarize output\n",
    "print(yhat)"
   ]
  },
  {
   "cell_type": "code",
   "execution_count": null,
   "id": "53947f75-5a72-41ed-aec6-98ee68f25135",
   "metadata": {
    "tags": []
   },
   "outputs": [],
   "source": [
    "import tensorflow as tf\n",
    "\n",
    "encoder = tf.keras.models.Sequential([\n",
    "    \n",
    "    ## Specifying inpit dimensions\n",
    "    tf.keras.layers.Input(shape=(1, 200, 200)),\n",
    "    \n",
    "    ## ConvoPooling Layer 1\n",
    "    tf.keras.layers.Conv2D(20, (9,9), name = 'conv_1'),\n",
    "    tf.keras.layers.MaxPooling2D(4,4, name = 'max_1'),\n",
    "    \n",
    "    ## ConvoPooling Layer 2\n",
    "    tf.keras.layers.Conv2D(60, (9,9), name = 'conv_2'),\n",
    "    tf.keras.layers.MaxPooling2D(2,2, name = 'max_2'), \n",
    "    \n",
    "    ## ConvoPooling Layer 3\n",
    "    tf.keras.layers.Conv2D(180, (9,9), name = 'conv_3'), \n",
    "    tf.keras.layers.MaxPooling2D(2,2, name = 'max_3'),\n",
    "    \n",
    "    # Flatten the results to feed into a DNN\n",
    "    tf.keras.layers.Flatten(name = 'flat_1'), \n",
    "    tf.keras.layers.Dense(6480, name = 'dense_1')\n",
    "])\n",
    "\n",
    "# decoder = tf.keras.models.Sequential([\n",
    "    \n",
    "#     ## Starting with a dense layer\n",
    "#     tf.keras.layers.Dense(6480)\n",
    "    \n",
    "#     ## De-ConvoPooling Layer 1\n",
    "#     tf.keras.layers.MaxUnpooling2D(2,2, name = 'un-max_1'),\n",
    "#     tf.keras.layers.\n",
    "    \n",
    "#     tf.keras.layers.Conv2D(20, (9,9), name = 'conv_1'),\n",
    "#     tf.keras.layers.MaxPooling2D(4,4, name = 'max_1'),\n",
    "    \n",
    "#     ## ConvoPooling Layer 2\n",
    "#     tf.keras.layers.Conv2D(60, (9,9), name = 'conv_2'),\n",
    "#     tf.keras.layers.MaxPooling2D(2,2, name = 'max_2'), \n",
    "    \n",
    "#     ## ConvoPooling Layer 3\n",
    "#     tf.keras.layers.Conv2D(180, (9,9), name = 'conv_3'), \n",
    "#     tf.keras.layers.MaxPooling2D(2,2, name = 'max_3'),\n",
    "    \n",
    "#     # Flatten the results to feed into a DNN\n",
    "#     tf.keras.layers.Flatten(), \n",
    "#     tf.keras.layers.Dense(6480)\n",
    "# ])"
   ]
  },
  {
   "cell_type": "code",
   "execution_count": null,
   "id": "99e88ef3-bffb-4372-85d8-f7f77b2fe2a9",
   "metadata": {},
   "outputs": [],
   "source": [
    "import tensorflow as tf\n",
    "\n",
    "# Define the input shape\n",
    "input_shape = (None, 200, 200, 1)\n",
    "\n",
    "# Define the encoder layers\n",
    "encoder_layers = [\n",
    "    ## ConvoPooling Layer 1\n",
    "    tf.keras.layers.Conv2D(filters=20, kernel_size=(9, 9), activation='relu', padding='same', input_shape=input_shape[1:]),\n",
    "    tf.keras.layers.MaxPooling2D(pool_size=(4, 4)),\n",
    "    \n",
    "    ## ConvoPooling Layer 2\n",
    "    tf.keras.layers.Conv2D(filters=60, kernel_size=(9, 9), activation='relu', padding='same'),\n",
    "    tf.keras.layers.MaxPooling2D(pool_size=(2, 2)),\n",
    "    \n",
    "    ## ConvoPooling Layer 3\n",
    "    tf.keras.layers.Conv2D(filters=180, kernel_size=(9, 9), activation='relu', padding='same'),\n",
    "    tf.keras.layers.MaxPooling2D(pool_size=(2, 2))\n",
    "]\n",
    "\n",
    "# Define the encoder model\n",
    "encoder_model = tf.keras.models.Sequential(encoder_layers)\n",
    "\n",
    "# Display the encoder model architecture\n",
    "encoder_model.summary()"
   ]
  },
  {
   "cell_type": "code",
   "execution_count": null,
   "id": "04d5c98e-df2c-4a4a-beb7-80f19e112711",
   "metadata": {
    "tags": []
   },
   "outputs": [],
   "source": [
    "encoder.summary()"
   ]
  },
  {
   "cell_type": "code",
   "execution_count": null,
   "id": "623b1cef-86b5-4d2c-b71c-6a26205da4e8",
   "metadata": {},
   "outputs": [],
   "source": [
    "tf.keras.Sequential([\n",
    "            \n",
    "            ## ConvoPooling Layer 1\n",
    "            layers.Conv2D(20, (9,9), input_shape=(200, 200)),\n",
    "            layers.MaxPooling2D(4,4),\n",
    "            \n",
    "            ## ConvoPooling Layer 2\n",
    "            layers.Conv2D(60, (9,9)),\n",
    "            layers.MaxPooling2D(2,2),\n",
    "            \n",
    "            ## ConvoPooling Layer 3\n",
    "            layers.Conv2D(180, (9,9)),\n",
    "            layers.MaxPooling2D(2,2),\n",
    "            \n",
    "            layers.Flatten(),\n",
    "            layers.Dense(latent_dim, activation='relu'),\n",
    "        ])\n",
    "        self.decoder = tf.keras.Sequential([\n",
    "            layers.Dense(784, activation='sigmoid'),\n",
    "            layers.Reshape((28, 28))\n",
    "        ])"
   ]
  }
 ],
 "metadata": {
  "kernelspec": {
   "display_name": "conda_python3",
   "language": "python",
   "name": "conda_python3"
  },
  "language_info": {
   "codemirror_mode": {
    "name": "ipython",
    "version": 3
   },
   "file_extension": ".py",
   "mimetype": "text/x-python",
   "name": "python",
   "nbconvert_exporter": "python",
   "pygments_lexer": "ipython3",
   "version": "3.10.8"
  }
 },
 "nbformat": 4,
 "nbformat_minor": 5
}
