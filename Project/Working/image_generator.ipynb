{
 "cells": [
  {
   "cell_type": "markdown",
   "id": "0ca3f801-99ad-47b4-a311-c4997e6e80fd",
   "metadata": {},
   "source": [
    "## Generating Traffic Image Data"
   ]
  },
  {
   "cell_type": "code",
   "execution_count": null,
   "id": "6959c39c-293f-462c-8422-41227d5af2a6",
   "metadata": {
    "tags": []
   },
   "outputs": [],
   "source": [
    "pip install Pillow"
   ]
  },
  {
   "cell_type": "code",
   "execution_count": 12,
   "id": "5a64b30f-285e-43c4-a1f6-8c0514151c10",
   "metadata": {
    "tags": []
   },
   "outputs": [],
   "source": [
    "## Importing libraries\n",
    "import os\n",
    "import csv\n",
    "import numpy as np\n",
    "import pandas as pd\n",
    "from pathlib import Path\n",
    "from PIL import Image\n",
    "import matplotlib.pyplot as plt\n",
    "from datetime import datetime\n",
    "\n",
    "## Housekeeping\n",
    "image_dir = Path(\"Image_Data/\")\n",
    "image_dir.mkdir(parents = True, exist_ok = True)\n",
    "pd.set_option('display.max_columns', None, 'display.max_rows', None)"
   ]
  },
  {
   "cell_type": "markdown",
   "id": "229367bf-99ae-4105-9d61-19cc79f1b159",
   "metadata": {},
   "source": [
    "#### Generating Training Images"
   ]
  },
  {
   "cell_type": "code",
   "execution_count": 13,
   "id": "0457e58c-d979-424d-a419-0be24e1dbb12",
   "metadata": {
    "tags": []
   },
   "outputs": [],
   "source": [
    "## Initializing traffic_data data-frame\n",
    "traffic_data = pd.DataFrame()\n",
    "\n",
    "## Concatenating each data file to traffic_data\n",
    "for year in os.listdir('Traffic_Data/'):\n",
    "    for file_name in os.listdir(os.path.join('Traffic_Data', year)):\n",
    "        file = pd.read_csv(os.path.join('Traffic_Data', year, file_name))\n",
    "        traffic_data = pd.concat([traffic_data, file], axis = 0)\n",
    "        \n",
    "## Changing 'Hour' variable to datetime and sorting by date\n",
    "traffic_data['Hour'] = pd.to_datetime(traffic_data['Hour'])\n",
    "traffic_data = traffic_data.sort_values('Hour').reset_index(drop = True)\n",
    "\n",
    "## Reading California I-5 sensor information\n",
    "all_sensors = pd.read_csv('pems_sensors.csv'); all_sensors['ID'] = all_sensors['ID'].astype(str)\n",
    "\n",
    "## Extracting columns from traffic_data data-frame\n",
    "data_sensors = pd.DataFrame({'Sensor': traffic_data.drop(columns = ['Hour', '# Lane Points', '% Observed']).columns})\n",
    "data_sensors['ID'] = data_sensors['Sensor'].str.split('-', n = 1, expand = True)[0].astype(str)\n",
    "\n",
    "## Inner joining data-frames and sorting by ordering (S --> N, San Diego --> Oregon)\n",
    "new_sensors = data_sensors.merge(all_sensors, how = 'inner', on = 'ID').sort_values('Ordering').reset_index(drop = True)\n",
    "\n",
    "## Extracting proper column ordering and adding 'Hour' to the beginning\n",
    "all_columns = new_sensors['Sensor'].tolist()\n",
    "all_columns.insert(0, 'Hour')\n",
    "\n",
    "## Changing column ordering of traffic_data\n",
    "traffic_data = traffic_data[all_columns]\n",
    "\n",
    "## Dropping all columns in traffic_data with missing values\n",
    "traffic_data = traffic_data.dropna(axis = 'columns')\n",
    "\n",
    "## Cutting some rows to make n_cols % 10 = 0\n",
    "traffic_data = traffic_data.drop(columns = ['315969-ML', '315927-ML', '317843-ML'])\n",
    "\n",
    "## Cutting some rows to make n_rows % 200 = 0\n",
    "traffic_data = traffic_data.iloc[0:30000,]\n",
    "\n",
    "## Saving data-frame as csv\n",
    "traffic_data.to_csv('Output_Data/full_traffic_data.csv', index = False)"
   ]
  },
  {
   "cell_type": "code",
   "execution_count": 14,
   "id": "261f3033-804a-4a59-b691-24117b0a4e4b",
   "metadata": {
    "tags": []
   },
   "outputs": [],
   "source": [
    "## Removing 'Hour' variable before scaling\n",
    "traffic_data_temp = traffic_data.drop(columns = ['Hour'])\n",
    "\n",
    "## Scaling traffic values of data-frame to be between 0-254\n",
    "flat_data = traffic_data_temp.to_numpy().flatten().astype(int)\n",
    "minimum = np.min(flat_data); maximum = np.max(flat_data)\n",
    "n = traffic_data_temp.shape[0]; p = traffic_data_temp.shape[1]\n",
    "flat_data = 254 * (flat_data - minimum) / (maximum - minimum)\n",
    "scaled_data = pd.DataFrame(flat_data.reshape((n, p)), columns = traffic_data_temp.columns)\n",
    "\n",
    "## Initializing list to store images\n",
    "images = list()\n",
    "labels = list()\n",
    "\n",
    "## Initializing data windows\n",
    "# n_time_windows = 150\n",
    "# n_sensor_windows = 27\n",
    "n_time_windows = 32\n",
    "n_sensor_windows = 16"
   ]
  },
  {
   "cell_type": "code",
   "execution_count": 15,
   "id": "61b7dea7-f6bb-447d-83f3-048a561e48e2",
   "metadata": {
    "tags": []
   },
   "outputs": [
    {
     "name": "stdout",
     "output_type": "stream",
     "text": [
      "Loaded traffic data:\n",
      " - np.shape(images)     (512, 200, 200)\n",
      " - np.shape(labels)     (512,)\n"
     ]
    }
   ],
   "source": [
    "for i in range(0, n_time_windows):\n",
    "    for j in range(0, n_sensor_windows):\n",
    "        \n",
    "        ## Setting time window\n",
    "        time_loc = [(i * 200), (i * 200 + 200)]\n",
    "        \n",
    "        ## Setting sensor window\n",
    "        sensor_loc = [(j * 10), (j * 10 + 200)]\n",
    "        \n",
    "        ## Creating img with window subset\n",
    "        img = np.array(scaled_data.iloc[time_loc[0]:time_loc[1], sensor_loc[0]:sensor_loc[1]])\n",
    "        \n",
    "        ## Appending to lists\n",
    "        images.append(img)\n",
    "        labels.append(0)\n",
    "        \n",
    "print(\"Loaded traffic data:\")\n",
    "print(f\" - np.shape(images)     {np.shape(images)}\")\n",
    "print(f\" - np.shape(labels)     {np.shape(labels)}\")"
   ]
  },
  {
   "cell_type": "code",
   "execution_count": 16,
   "id": "53c447e5-9ae5-4862-bd12-a70843f527bc",
   "metadata": {
    "tags": []
   },
   "outputs": [],
   "source": [
    "## Function to store all images to disk\n",
    "def store_many_disk(images):\n",
    "\n",
    "    ## Saving images one by one\n",
    "    for i, image in enumerate(images):\n",
    "        storing = Image.fromarray(image)\n",
    "        storing = storing.convert('L')\n",
    "        storing.save(image_dir / f\"{i}.png\")\n",
    "\n",
    "store_many_disk(images)"
   ]
  },
  {
   "cell_type": "code",
   "execution_count": null,
   "id": "b3df5061-f15f-44f9-bcd6-e7b9e091afb7",
   "metadata": {
    "tags": []
   },
   "outputs": [],
   "source": [
    "## Function to read n_images from disk\n",
    "def read_many_disk(n_images):\n",
    "    images = []\n",
    "    for image_id in range(n_images):\n",
    "        images.append(np.array(Image.open(image_dir / f\"{image_id}.png\")))\n",
    "    return images\n",
    "\n",
    "n_images = 10\n",
    "imgs = read_many_disk(n_images)"
   ]
  },
  {
   "cell_type": "code",
   "execution_count": null,
   "id": "14f078aa-f0ba-444d-b068-2d15ad51285b",
   "metadata": {
    "tags": []
   },
   "outputs": [],
   "source": [
    "## Plotting an example training image\n",
    "plt.imshow(imgs[0], cmap = 'gray')\n",
    "plt.show()"
   ]
  },
  {
   "cell_type": "markdown",
   "id": "a4b60b29-1236-4ee3-8985-0b8361b93436",
   "metadata": {},
   "source": [
    "#### Generating Testing Images"
   ]
  },
  {
   "cell_type": "code",
   "execution_count": null,
   "id": "5b9fc5ef-303a-44c6-b72b-40a8a5493b1e",
   "metadata": {},
   "outputs": [],
   "source": []
  },
  {
   "cell_type": "code",
   "execution_count": null,
   "id": "6596b0cc-03ec-42aa-b1b4-98f78b98154f",
   "metadata": {},
   "outputs": [],
   "source": []
  },
  {
   "cell_type": "code",
   "execution_count": null,
   "id": "4db47312-d9be-46eb-8d95-95bc00c8e558",
   "metadata": {},
   "outputs": [],
   "source": []
  },
  {
   "cell_type": "code",
   "execution_count": null,
   "id": "7a9aa150-03f6-4196-bf13-8b29953f6cc2",
   "metadata": {},
   "outputs": [],
   "source": []
  },
  {
   "cell_type": "code",
   "execution_count": null,
   "id": "47c8bdb5-412d-4b7d-91df-ae995bbd070c",
   "metadata": {},
   "outputs": [],
   "source": []
  },
  {
   "cell_type": "code",
   "execution_count": null,
   "id": "2ff34fef-956b-48cb-9cfd-7068e9708331",
   "metadata": {},
   "outputs": [],
   "source": []
  },
  {
   "cell_type": "code",
   "execution_count": null,
   "id": "074cfe12-9aac-45c3-814c-9a7f8ccf1f13",
   "metadata": {
    "tags": []
   },
   "outputs": [],
   "source": [
    "## Reading the data\n",
    "jan = pd.read_csv('jan2023_output.csv')\n",
    "feb = pd.read_csv('feb2023_output.csv')\n",
    "mar = pd.read_csv('mar2023_output.csv')\n",
    "\n",
    "## Concatenating all data\n",
    "data = pd.concat([jan, feb, mar], axis = 0).drop(columns = ['Hour', '# Lane Points', '% Observed'])\n",
    "data.reset_index(drop = True, inplace = True)\n",
    "\n",
    "## Cutting some rows to make n_rows % 248 = 0\n",
    "data = data.iloc[0:1736,]\n",
    "\n",
    "## Scaling traffic values of data-frame to be between 0-255\n",
    "flat_data = data.to_numpy().flatten()\n",
    "flat_data = 255 * (flat_data - np.min(flat_data)) / (np.max(flat_data) - np.min(flat_data))\n",
    "scaled_data = pd.DataFrame(flat_data.reshape((data.shape[0], data.shape[1])), columns = data.columns)\n",
    "\n",
    "## Setting number of images to create\n",
    "n_images = int(scaled_data.shape[0] / 248)\n",
    "\n",
    "## Initializing list to store images\n",
    "images = list()\n",
    "labels = list()\n",
    "\n",
    "## Creating n_images using the data\n",
    "for i in range(n_images):\n",
    "    img = np.array(scaled_data.iloc[(i * 248):(i*248)+248,])\n",
    "    images.append(img)\n",
    "    labels.append(0)\n",
    "    \n",
    "print(\"Loaded traffic data:\")\n",
    "print(f\" - np.shape(images)     {np.shape(images)}\")\n",
    "print(f\" - np.shape(labels)     {np.shape(labels)}\")"
   ]
  },
  {
   "cell_type": "code",
   "execution_count": null,
   "id": "d0d608de-0b6a-4897-a2dc-9428057e0128",
   "metadata": {
    "tags": []
   },
   "outputs": [],
   "source": [
    "scaled_data.head()"
   ]
  },
  {
   "cell_type": "code",
   "execution_count": null,
   "id": "2fa34e15-4504-4ec6-9f6b-915c7d9572e9",
   "metadata": {
    "tags": []
   },
   "outputs": [],
   "source": [
    "## Storing all images to disk\n",
    "def store_many_disk(images, labels):\n",
    "\n",
    "    ## Saving images one by one\n",
    "    for i, image in enumerate(images):\n",
    "        storing = Image.fromarray(image)\n",
    "        storing = storing.convert('L')\n",
    "        storing.save(disk_dir / f\"{i}.png\")\n",
    "            \n",
    "## Experimenting\n",
    "store_many_disk(images, labels)"
   ]
  },
  {
   "cell_type": "code",
   "execution_count": null,
   "id": "981ff356-0c68-4c28-96bb-ad9793d83cfd",
   "metadata": {
    "tags": []
   },
   "outputs": [],
   "source": [
    "## Reading all images from disk\n",
    "def read_many_disk(n_images):\n",
    "    images = []\n",
    "    for image_id in range(n_images):\n",
    "        images.append(np.array(Image.open(disk_dir / f\"{image_id}.png\")))\n",
    "    return images\n",
    "\n",
    "n_images = 7\n",
    "imgs = read_many_disk(n_images)"
   ]
  },
  {
   "cell_type": "code",
   "execution_count": null,
   "id": "b99fb7ad-3b0f-412d-9234-74e1d1b1bd25",
   "metadata": {
    "tags": []
   },
   "outputs": [],
   "source": [
    "plt.imshow(imgs[0], cmap = 'gray')"
   ]
  },
  {
   "cell_type": "code",
   "execution_count": null,
   "id": "97c7420d-10d5-48ea-b290-28b576322c5f",
   "metadata": {},
   "outputs": [],
   "source": []
  },
  {
   "cell_type": "code",
   "execution_count": null,
   "id": "3ea34567-f6af-49cb-8395-55ddf54992dc",
   "metadata": {},
   "outputs": [],
   "source": []
  },
  {
   "cell_type": "markdown",
   "id": "e77ea85d-8332-41f9-af53-c2d4edb19555",
   "metadata": {},
   "source": [
    "### Experimenting with missing values:"
   ]
  },
  {
   "cell_type": "code",
   "execution_count": null,
   "id": "4170b9d6-3190-4af5-89ca-d31c165f7206",
   "metadata": {
    "tags": []
   },
   "outputs": [],
   "source": [
    "## Reading the data\n",
    "jan = pd.read_csv('jan2023_output.csv')\n",
    "feb = pd.read_csv('feb2023_output.csv')\n",
    "mar = pd.read_csv('mar2023_output.csv')\n",
    "\n",
    "## Concatenating all data\n",
    "data = pd.concat([jan, feb, mar], axis = 0).drop(columns = ['Hour', '# Lane Points', '% Observed'])\n",
    "data.reset_index(drop = True, inplace = True)\n",
    "\n",
    "## Cutting some rows to make n_rows % 248 = 0\n",
    "data = data.iloc[0:1736,]\n",
    "\n",
    "## Scaling traffic values of data-frame to be between 0-255\n",
    "flat_data = data.to_numpy().flatten()\n",
    "flat_data = 255 * (flat_data - np.min(flat_data)) / (np.max(flat_data) - np.min(flat_data))\n",
    "scaled_data = pd.DataFrame(flat_data.reshape((data.shape[0], data.shape[1])), columns = data.columns)\n",
    "\n",
    "scaled_data.iloc[0:100, 0:30] = np.nan\n",
    "\n",
    "## Setting number of images to create\n",
    "n_images = int(scaled_data.shape[0] / 248)\n",
    "\n",
    "## Initializing list to store images\n",
    "images = list()\n",
    "labels = list()\n",
    "\n",
    "## Creating n_images using the data\n",
    "for i in range(n_images):\n",
    "    img = np.array(scaled_data.iloc[(i * 248):(i*248)+248,])\n",
    "    images.append(img)\n",
    "    labels.append(0)\n",
    "    \n",
    "print(\"Loaded traffic data:\")\n",
    "print(f\" - np.shape(images)     {np.shape(images)}\")\n",
    "print(f\" - np.shape(labels)     {np.shape(labels)}\")"
   ]
  },
  {
   "cell_type": "code",
   "execution_count": null,
   "id": "9c8a6c50-4b8b-4423-a942-5e82630b9242",
   "metadata": {
    "tags": []
   },
   "outputs": [],
   "source": [
    "scaled_data.head()"
   ]
  },
  {
   "cell_type": "code",
   "execution_count": null,
   "id": "d035c34d-98f0-4fef-9c8c-353d146e4235",
   "metadata": {
    "tags": []
   },
   "outputs": [],
   "source": [
    "## Storing all images to disk\n",
    "def store_many_disk(images, labels):\n",
    "\n",
    "    ## Saving images one by one\n",
    "    for i, image in enumerate(images):\n",
    "        storing = Image.fromarray(image)\n",
    "        storing = storing.convert('L')\n",
    "        storing.save(disk_dir / f\"{i}.png\")\n",
    "            \n",
    "## Experimenting\n",
    "store_many_disk(images, labels)"
   ]
  },
  {
   "cell_type": "code",
   "execution_count": null,
   "id": "8ee6f24f-8e87-4c5c-aeb9-d79801f0e8dc",
   "metadata": {
    "tags": []
   },
   "outputs": [],
   "source": [
    "## Reading all images from disk\n",
    "def read_many_disk(n_images):\n",
    "    images = []\n",
    "    for image_id in range(n_images):\n",
    "        images.append(np.array(Image.open(disk_dir / f\"{image_id}.png\")))\n",
    "    return images\n",
    "\n",
    "n_images = 7\n",
    "imgs = read_many_disk(n_images)"
   ]
  },
  {
   "cell_type": "code",
   "execution_count": null,
   "id": "498ce486-2827-4213-b7b0-28267f20bc8c",
   "metadata": {
    "tags": []
   },
   "outputs": [],
   "source": [
    "plt.imshow(imgs[0], cmap = 'gray')"
   ]
  },
  {
   "cell_type": "code",
   "execution_count": null,
   "id": "c0f3accf-1ec5-47c7-97bc-ee41c7cc8735",
   "metadata": {},
   "outputs": [],
   "source": []
  },
  {
   "cell_type": "code",
   "execution_count": null,
   "id": "17ddc4b0-12a5-4e3f-9979-ee9d75e20125",
   "metadata": {
    "tags": []
   },
   "outputs": [],
   "source": [
    "pip install tensorflow"
   ]
  },
  {
   "cell_type": "code",
   "execution_count": null,
   "id": "1e233658-a40b-49ad-895c-6ce333ce3448",
   "metadata": {
    "tags": []
   },
   "outputs": [],
   "source": [
    "import tensorflow as tf"
   ]
  },
  {
   "cell_type": "code",
   "execution_count": null,
   "id": "923794b7-40de-410c-a11c-fc895d69a890",
   "metadata": {
    "tags": []
   },
   "outputs": [],
   "source": [
    "tf.data.Dataset??"
   ]
  }
 ],
 "metadata": {
  "kernelspec": {
   "display_name": "conda_python3",
   "language": "python",
   "name": "conda_python3"
  },
  "language_info": {
   "codemirror_mode": {
    "name": "ipython",
    "version": 3
   },
   "file_extension": ".py",
   "mimetype": "text/x-python",
   "name": "python",
   "nbconvert_exporter": "python",
   "pygments_lexer": "ipython3",
   "version": "3.10.8"
  }
 },
 "nbformat": 4,
 "nbformat_minor": 5
}
