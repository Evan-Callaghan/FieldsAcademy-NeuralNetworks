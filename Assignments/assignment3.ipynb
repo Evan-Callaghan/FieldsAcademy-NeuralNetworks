{
 "cells": [
  {
   "cell_type": "markdown",
   "id": "56f792e0-6c9a-4aec-9852-722a45445965",
   "metadata": {},
   "source": [
    "# Fields Academy | Western University\n",
    "### Neural Networks, Assignment 3\n",
    "### Evan Callaghan\n",
    "### April 21, 2023\n",
    "\n",
    "### Problem 2. b)"
   ]
  },
  {
   "cell_type": "code",
   "execution_count": 103,
   "id": "7af50c97-1fdb-42c9-ad38-d01ec005ec42",
   "metadata": {
    "tags": []
   },
   "outputs": [],
   "source": [
    "import os\n",
    "import numpy as np\n",
    "import pandas as pd\n",
    "from PIL import Image\n",
    "import matplotlib.pyplot as plt"
   ]
  },
  {
   "cell_type": "code",
   "execution_count": 185,
   "id": "65fd3edb-28b7-4833-b707-13ade6712ba3",
   "metadata": {
    "tags": []
   },
   "outputs": [
    {
     "data": {
      "image/png": "[encoded data removed]",
      "text/plain": [
       "<Figure size 640x480 with 1 Axes>"
      ]
     },
     "metadata": {},
     "output_type": "display_data"
    }
   ],
   "source": [
    "## i. Loading the image and turning it into a numpy array with +/-1 entries\n",
    "img = Image.open('memory1-1.png')\n",
    "\n",
    "## Setting some helpful parameters\n",
    "image_width = 100\n",
    "image_height = 100\n",
    "\n",
    "## Resizing the image to be 100x100\n",
    "img = img.resize((image_width, image_height))\n",
    "\n",
    "## Binarizing the image\n",
    "img = img.convert('1')\n",
    "\n",
    "## Converting image to a numpy array\n",
    "memory = np.array(img)\n",
    "\n",
    "## Displaying the image\n",
    "plt.imshow(memory, cmap = 'Blues')\n",
    "plt.show()"
   ]
  },
  {
   "cell_type": "code",
   "execution_count": 163,
   "id": "c89301ef-2719-4b67-8eb8-3805513fea7b",
   "metadata": {
    "tags": []
   },
   "outputs": [
    {
     "data": {
      "text/plain": [
       "(10000,)"
      ]
     },
     "execution_count": 163,
     "metadata": {},
     "output_type": "execute_result"
    }
   ],
   "source": [
    "# Train the network\n",
    "W = np.zeros((N, pattern_width * pattern_height))\n",
    "\n",
    "for i in range(pattern_width * pattern_height):\n",
    "    for j in range(pattern_width * pattern_height):\n",
    "        if i == j or W[i, j] != 0.0:\n",
    "            continue\n",
    "            \n",
    "        w = 0.0\n",
    "        \n",
    "        for n in range(nb_patterns):\n",
    "            w += patterns[n, i] * patterns[n, j]\n",
    "            \n",
    "        W[i, j] = w / patterns.shape[0]  \n",
    "        W[j, i] = W[i, j]  "
   ]
  },
  {
   "cell_type": "code",
   "execution_count": 186,
   "id": "19118137-f057-4e51-ba03-918ca1d8121d",
   "metadata": {
    "tags": []
   },
   "outputs": [],
   "source": [
    "## ii.  Flattening this array into a 1 × 100^2 array\n",
    "v = memory.flatten()\n",
    "\n",
    "## iii. Using the provided definition to find the weight matrix \n",
    "\n",
    "## Setting the number of neurons\n",
    "N = 10000\n",
    "\n",
    "## Initializing the weight matrix\n",
    "weight_matrix = np.zeros((N, N))\n",
    "\n",
    "for i in range(N):\n",
    "    for j in range(N):\n",
    "        if (i == j or weight_matrix[i,j] != 0.0):\n",
    "            continue\n",
    "        weight_matrix[i,j] = v[i] * v[j] / N\n",
    "        weight_matrix[j,i] = weight_matrix[i,j]"
   ]
  },
  {
   "cell_type": "code",
   "execution_count": 187,
   "id": "f97d9c37-9dde-41ab-942c-d5cbdefb46b2",
   "metadata": {
    "tags": []
   },
   "outputs": [
    {
     "data": {
      "text/plain": [
       "(10000, 10000)"
      ]
     },
     "execution_count": 187,
     "metadata": {},
     "output_type": "execute_result"
    }
   ],
   "source": [
    "weight_matrix.shape"
   ]
  },
  {
   "cell_type": "code",
   "execution_count": 126,
   "id": "2c821e27-5597-4ae5-a772-579a823a2182",
   "metadata": {},
   "outputs": [
    {
     "name": "stdout",
     "output_type": "stream",
     "text": [
      "-1175.2617999999134\n",
      "-2140.164199999822\n",
      "-2567.916199999786\n",
      "-2766.5577999997613\n",
      "-2827.893799999746\n",
      "-2853.522999999742\n",
      "-2858.057799999755\n",
      "-2861.0829999997363\n",
      "-2861.0829999997363\n",
      "-2861.0829999997363\n"
     ]
    }
   ],
   "source": [
    "## iv. Performing a state update and computing the energy function at each step\n",
    "\n",
    "## Creating initial array\n",
    "v_array = np.random.randint(0, 2, size = N)\n",
    "\n",
    "## Changing from 0/1 to -1/1\n",
    "v_array = np.where(v_array == 0, -1, 1)\n",
    "\n",
    "images = []\n",
    "energies = []\n",
    "\n",
    "for i in range(10):\n",
    "    \n",
    "    for neuron in range(N):\n",
    "        \n",
    "        random_idx = np.random.randint(0, N)\n",
    "        index_activation = np.dot(weight_matrix[random_idx,:], v_array) \n",
    "        \n",
    "        if index_activation < 0: \n",
    "            v_array[random_idx] = -1\n",
    "        else:\n",
    "            v_array[random_idx] = 1\n",
    "    \n",
    "    images.append(v_array)\n",
    "    ## Computing energy function\n",
    "    energy = -0.5 * np.dot(np.dot(v_array.T, weight_matrix), v_array)\n",
    "    energies.append(energy)\n",
    "    print(energy)"
   ]
  },
  {
   "cell_type": "code",
   "execution_count": 134,
   "id": "ccaca5cc-efba-4564-9368-13519ab86d0e",
   "metadata": {
    "tags": []
   },
   "outputs": [
    {
     "data": {
      "text/plain": [
       "array([1, 1, 1, ..., 1, 1, 1])"
      ]
     },
     "execution_count": 134,
     "metadata": {},
     "output_type": "execute_result"
    }
   ],
   "source": [
    "v_array"
   ]
  },
  {
   "cell_type": "code",
   "execution_count": 132,
   "id": "40671097-bce5-4e2a-ae73-5805b8f2d95b",
   "metadata": {
    "tags": []
   },
   "outputs": [
    {
     "data": {
      "image/png": "[encoded data removed]",
      "text/plain": [
       "<Figure size 640x480 with 1 Axes>"
      ]
     },
     "metadata": {},
     "output_type": "display_data"
    }
   ],
   "source": [
    "plt.imshow(images[9].reshape((100, 100)), cmap = 'Blues')\n",
    "plt.show()"
   ]
  },
  {
   "cell_type": "code",
   "execution_count": 137,
   "id": "9dbd20be-62df-4486-9e05-91811acfcb7f",
   "metadata": {
    "tags": []
   },
   "outputs": [],
   "source": [
    "X = fetch_MNIST(\"http://yann.lecun.com/exdb/mnist/train-images-idx3-ubyte.gz\")[0x10:].reshape((-1,784))\n",
    "    \n",
    "#convert to binary\n",
    "X_binary = np.where(X>20, 1,-1)\n",
    "\n",
    "#Snag a memory from computer brain\n",
    "memories_list = np.array([X_binary[np.random.randint(len(X))]])"
   ]
  },
  {
   "cell_type": "code",
   "execution_count": 140,
   "id": "563ad2e9-7223-4904-a9a9-7e1e8fc0a9c0",
   "metadata": {
    "tags": []
   },
   "outputs": [],
   "source": [
    "memory = np.array(memories_list)"
   ]
  },
  {
   "cell_type": "code",
   "execution_count": 141,
   "id": "387912e5-903f-497d-9274-a96386435c4f",
   "metadata": {
    "tags": []
   },
   "outputs": [
    {
     "data": {
      "text/plain": [
       "784"
      ]
     },
     "execution_count": 141,
     "metadata": {},
     "output_type": "execute_result"
    }
   ],
   "source": [
    "memory.size"
   ]
  },
  {
   "cell_type": "code",
   "execution_count": 142,
   "id": "67d47799-664e-40c7-be09-9e7b67901a14",
   "metadata": {
    "tags": []
   },
   "outputs": [
    {
     "data": {
      "text/plain": [
       "784"
      ]
     },
     "execution_count": 142,
     "metadata": {},
     "output_type": "execute_result"
    }
   ],
   "source": [
    "memory.shape[1] "
   ]
  },
  {
   "cell_type": "code",
   "execution_count": 143,
   "id": "01906707-de4f-4b1d-99f9-638c12d5cbe6",
   "metadata": {
    "tags": []
   },
   "outputs": [],
   "source": [
    "state = np.random.randint(-2,2,(N,1)) #state vector\n",
    "weights = np.zeros((N, N)) #weights vector\n",
    "energies = [] "
   ]
  },
  {
   "cell_type": "code",
   "execution_count": 147,
   "id": "d458b0aa-f2bc-4250-a853-7f5bc9a21547",
   "metadata": {
    "tags": []
   },
   "outputs": [],
   "source": [
    "weights = (1 / memory.shape[0]) * np.dot(memory.T, memory) #hebbian learning\n",
    "np.fill_diagonal(weights, 0)"
   ]
  },
  {
   "cell_type": "code",
   "execution_count": 148,
   "id": "d0fac433-0d1a-46e1-a3a3-73e0669822ff",
   "metadata": {
    "tags": []
   },
   "outputs": [
    {
     "data": {
      "text/plain": [
       "array([[0., 1., 1., ..., 1., 1., 1.],\n",
       "       [1., 0., 1., ..., 1., 1., 1.],\n",
       "       [1., 1., 0., ..., 1., 1., 1.],\n",
       "       ...,\n",
       "       [1., 1., 1., ..., 0., 1., 1.],\n",
       "       [1., 1., 1., ..., 1., 0., 1.],\n",
       "       [1., 1., 1., ..., 1., 1., 0.]])"
      ]
     },
     "execution_count": 148,
     "metadata": {},
     "output_type": "execute_result"
    }
   ],
   "source": [
    "weights"
   ]
  },
  {
   "cell_type": "code",
   "execution_count": null,
   "id": "2f6f045a-919a-4a3a-bda5-da1071f71198",
   "metadata": {},
   "outputs": [],
   "source": []
  },
  {
   "cell_type": "code",
   "execution_count": 66,
   "id": "53968087-0363-414a-8aa0-ef32afdc5210",
   "metadata": {},
   "outputs": [],
   "source": [
    "test = np.sign(np.matmul(weight_matrix, v))"
   ]
  },
  {
   "cell_type": "code",
   "execution_count": 67,
   "id": "368d2070-7cd6-478e-8cab-04c406ab2362",
   "metadata": {
    "tags": []
   },
   "outputs": [
    {
     "data": {
      "text/plain": [
       "(10000,)"
      ]
     },
     "execution_count": 67,
     "metadata": {},
     "output_type": "execute_result"
    }
   ],
   "source": [
    "test.shape"
   ]
  },
  {
   "cell_type": "code",
   "execution_count": 68,
   "id": "29f4af8f-f907-4321-b050-f0c53a2955cb",
   "metadata": {},
   "outputs": [
    {
     "data": {
      "text/plain": [
       "array([1., 1., 1., ..., 1., 0., 1.])"
      ]
     },
     "execution_count": 68,
     "metadata": {},
     "output_type": "execute_result"
    }
   ],
   "source": [
    "test"
   ]
  },
  {
   "cell_type": "code",
   "execution_count": null,
   "id": "416acb0e-c36f-497a-91b2-4d769ee2f625",
   "metadata": {},
   "outputs": [],
   "source": []
  },
  {
   "cell_type": "code",
   "execution_count": 53,
   "id": "a8ba4177-69fe-4d06-a801-2559277ef3e6",
   "metadata": {
    "tags": []
   },
   "outputs": [
    {
     "data": {
      "image/png": "[encoded data removed]",
      "text/plain": [
       "<Figure size 640x480 with 1 Axes>"
      ]
     },
     "metadata": {},
     "output_type": "display_data"
    }
   ],
   "source": [
    "## Converting image to a numpy array\n",
    "img_array = np.array(img)\n",
    "    \n",
    "## Turn into memory pattern: Flattening the array to a 1 x 100^2 array\n",
    "flattened_image = img_array.flatten()\n",
    "\n",
    "plt.imshow(img_array, cmap = 'gray')\n",
    "plt.show()"
   ]
  },
  {
   "cell_type": "code",
   "execution_count": null,
   "id": "1ce955c2-8f78-49ec-989d-ed344bfc010a",
   "metadata": {},
   "outputs": [],
   "source": []
  },
  {
   "cell_type": "code",
   "execution_count": null,
   "id": "5d66ea3f-fdb1-4836-8264-b81418c548b1",
   "metadata": {},
   "outputs": [],
   "source": []
  },
  {
   "cell_type": "code",
   "execution_count": 18,
   "id": "ceccb7b5-c1c1-4935-9a81-65e21989d924",
   "metadata": {
    "tags": []
   },
   "outputs": [
    {
     "name": "stdout",
     "output_type": "stream",
     "text": [
      "None\n",
      "(100, 100)\n",
      "L\n"
     ]
    },
    {
     "data": {
      "image/png": "[encoded data removed]",
      "text/plain": [
       "<PIL.Image.Image image mode=L size=100x100>"
      ]
     },
     "metadata": {},
     "output_type": "display_data"
    }
   ],
   "source": [
    "print(img.format)\n",
    "print(img.size)\n",
    "print(img.mode)\n",
    "img.show()"
   ]
  },
  {
   "cell_type": "code",
   "execution_count": null,
   "id": "a566d4e2-e3b9-4b01-a640-4925a98cc74a",
   "metadata": {
    "tags": []
   },
   "outputs": [],
   "source": [
    "img_array"
   ]
  },
  {
   "cell_type": "code",
   "execution_count": null,
   "id": "6464bae8-d912-4863-802b-96ef1caa82b6",
   "metadata": {},
   "outputs": [],
   "source": [
    "# Open the image using Pillow\n",
    "    img = Image.open(image_path)\n",
    "    \n",
    "    # Convert the image to grayscale\n",
    "    img = img.convert('L')\n",
    "    \n",
    "    # Resize the image to 100x100 pixels\n",
    "    img = img.resize((100, 100))\n",
    "    \n",
    "    # Convert the image to a numpy array\n",
    "    img_array = np.array(img)\n",
    "    \n",
    "    # Normalize the pixel values to be between -1 and 1\n",
    "    img_array = img_array / 127.5 - 1.0\n",
    "    \n",
    "    # Flatten the array to a 1 x 100^2 array\n",
    "    flattened_array = img_array.flatten()\n",
    "    \n",
    "    return flattened_array"
   ]
  },
  {
   "cell_type": "code",
   "execution_count": null,
   "id": "f1f58d3f-f176-4326-b55c-a8ab3c576fc2",
   "metadata": {
    "tags": []
   },
   "outputs": [],
   "source": [
    "img.shape"
   ]
  },
  {
   "cell_type": "code",
   "execution_count": null,
   "id": "ab4f1bae-677f-4162-b8c7-8b4717a7fd6a",
   "metadata": {},
   "outputs": [],
   "source": []
  },
  {
   "cell_type": "code",
   "execution_count": null,
   "id": "c4e2b044-b29e-48ae-a4c0-bda9b0959206",
   "metadata": {},
   "outputs": [],
   "source": []
  },
  {
   "cell_type": "code",
   "execution_count": null,
   "id": "06ce6fa9-2ceb-4b13-8022-63032f183f15",
   "metadata": {},
   "outputs": [],
   "source": []
  },
  {
   "cell_type": "code",
   "execution_count": null,
   "id": "508ae8ed-36ce-428a-8422-ecd0518327f9",
   "metadata": {},
   "outputs": [],
   "source": []
  },
  {
   "cell_type": "code",
   "execution_count": 172,
   "id": "c3129b42-a392-439c-805b-aca390d3ae48",
   "metadata": {},
   "outputs": [
    {
     "name": "stderr",
     "output_type": "stream",
     "text": [
      "/tmp/ipykernel_7046/3015459597.py:12: DeprecationWarning: `np.float` is a deprecated alias for the builtin `float`. To silence this warning, use `float` by itself. Doing this will not modify any behavior and is safe. If you specifically wanted the numpy scalar type, use `np.float64` here.\n",
      "Deprecated in NumPy 1.20; for more details and guidance: https://numpy.org/devdocs/release/1.20.0-notes.html#deprecations\n",
      "  dtype=np.float)\n"
     ]
    }
   ],
   "source": [
    "nb_patterns = 4   # Number of patterns to learn\n",
    "pattern_width = 5\n",
    "pattern_height = 5\n",
    "max_iterations = 10\n",
    "\n",
    "# Define Patterns\n",
    "patterns = np.array([\n",
    "   [1,-1,-1,-1,1,1,-1,1,1,-1,1,-1,1,1,-1,1,-1,1,1,-1,1,-1,-1,-1,1.],   # Letter D\n",
    "   [-1,-1,-1,-1,-1,1,1,1,-1,1,1,1,1,-1,1,-1,1,1,-1,1,-1,-1,-1,1,1.],    # Letter J\n",
    "   [1,-1,-1,-1,-1,-1,1,1,1,1,-1,1,1,1,1,-1,1,1,1,1,1,-1,-1,-1,-1.],     # Letter C\n",
    "   [-1,1,1,1,-1,-1,-1,1,-1,-1,-1,1,-1,1,-1,-1,1,1,1,-1,-1,1,1,1,-1.],], # Letter M \n",
    "   dtype=np.float)"
   ]
  },
  {
   "cell_type": "code",
   "execution_count": 173,
   "id": "423859ce-25e4-4eee-ab2a-6294a4613e70",
   "metadata": {},
   "outputs": [
    {
     "data": {
      "image/png": "[encoded data removed]",
      "text/plain": [
       "<Figure size 1500x1000 with 4 Axes>"
      ]
     },
     "metadata": {},
     "output_type": "display_data"
    }
   ],
   "source": [
    "# Show the patterns\n",
    "fig, ax = plt.subplots(1, nb_patterns, figsize=(15, 10))\n",
    "\n",
    "for i in range(nb_patterns):\n",
    "    ax[i].matshow(patterns[i].reshape((pattern_height, pattern_width)), cmap='gray')\n",
    "    ax[i].set_xticks([])\n",
    "    ax[i].set_yticks([])"
   ]
  },
  {
   "cell_type": "code",
   "execution_count": 174,
   "id": "4d16e6b2-c04c-445d-a563-619c2f5c4252",
   "metadata": {
    "tags": []
   },
   "outputs": [],
   "source": [
    "# Train the network\n",
    "W = np.zeros((pattern_width * pattern_height, pattern_width * pattern_height))\n",
    "\n",
    "for i in range(pattern_width * pattern_height):\n",
    "    for j in range(pattern_width * pattern_height):\n",
    "        if i == j or W[i, j] != 0.0:\n",
    "            continue\n",
    "            \n",
    "        w = 0.0\n",
    "        \n",
    "        for n in range(nb_patterns):\n",
    "            w += patterns[n, i] * patterns[n, j]\n",
    "            \n",
    "        W[i, j] = w / patterns.shape[0]  \n",
    "        W[j, i] = W[i, j]  "
   ]
  },
  {
   "cell_type": "code",
   "execution_count": 176,
   "id": "0d751cb5-55fb-419a-902f-3f42d3e96703",
   "metadata": {
    "tags": []
   },
   "outputs": [
    {
     "name": "stderr",
     "output_type": "stream",
     "text": [
      "/tmp/ipykernel_7046/147968534.py:4: DeprecationWarning: `np.float` is a deprecated alias for the builtin `float`. To silence this warning, use `float` by itself. Doing this will not modify any behavior and is safe. If you specifically wanted the numpy scalar type, use `np.float64` here.\n",
      "Deprecated in NumPy 1.20; for more details and guidance: https://numpy.org/devdocs/release/1.20.0-notes.html#deprecations\n",
      "  dtype=np.float)\n"
     ]
    },
    {
     "data": {
      "text/plain": [
       "<matplotlib.image.AxesImage at 0x7fbdb4df1300>"
      ]
     },
     "execution_count": 176,
     "metadata": {},
     "output_type": "execute_result"
    },
    {
     "data": {
      "image/png": "[encoded data removed]",
      "text/plain": [
       "<Figure size 640x480 with 1 Axes>"
      ]
     },
     "metadata": {},
     "output_type": "display_data"
    }
   ],
   "source": [
    "# Test the Network\n",
    "# Create a corrupted pattern S\n",
    "S = np.array(    [1,-1,-1,-1,-1,1,1,1,1,1,-1,1,1,1,1,-1,1,1,1,1,1,1,-1,-1,-1.],     \n",
    "   dtype=np.float)\n",
    "   \n",
    "# Show the corrupted pattern\n",
    "fig, ax = plt.subplots()\n",
    "ax.matshow(S.reshape((pattern_height, pattern_width)), cmap='gray')"
   ]
  },
  {
   "cell_type": "code",
   "execution_count": 177,
   "id": "facc5d6f-f539-42ac-bab0-1efcc45f81f7",
   "metadata": {},
   "outputs": [
    {
     "data": {
      "text/plain": [
       "array([[13., 11.,  4., 12.],\n",
       "       [13., 11.,  2., 12.],\n",
       "       [12., 10.,  1., 13.],\n",
       "       [12., 10.,  1., 13.],\n",
       "       [11.,  9.,  0., 14.],\n",
       "       [11.,  9.,  0., 14.],\n",
       "       [11.,  9.,  0., 14.],\n",
       "       [11.,  9.,  0., 14.],\n",
       "       [11.,  9.,  0., 14.],\n",
       "       [11.,  9.,  0., 14.]])"
      ]
     },
     "execution_count": 177,
     "metadata": {},
     "output_type": "execute_result"
    },
    {
     "data": {
      "image/png": "[encoded data removed]",
      "text/plain": [
       "<Figure size 640x480 with 1 Axes>"
      ]
     },
     "metadata": {},
     "output_type": "display_data"
    },
    {
     "data": {
      "image/png": "[encoded data removed]",
      "text/plain": [
       "<Figure size 640x480 with 1 Axes>"
      ]
     },
     "metadata": {},
     "output_type": "display_data"
    },
    {
     "data": {
      "image/png": "[encoded data removed]",
      "text/plain": [
       "<Figure size 640x480 with 1 Axes>"
      ]
     },
     "metadata": {},
     "output_type": "display_data"
    },
    {
     "data": {
      "image/png": "[encoded data removed]",
      "text/plain": [
       "<Figure size 640x480 with 1 Axes>"
      ]
     },
     "metadata": {},
     "output_type": "display_data"
    },
    {
     "data": {
      "image/png": "[encoded data removed]",
      "text/plain": [
       "<Figure size 640x480 with 1 Axes>"
      ]
     },
     "metadata": {},
     "output_type": "display_data"
    },
    {
     "data": {
      "image/png": "[encoded data removed]",
      "text/plain": [
       "<Figure size 640x480 with 1 Axes>"
      ]
     },
     "metadata": {},
     "output_type": "display_data"
    },
    {
     "data": {
      "image/png": "[encoded data removed]",
      "text/plain": [
       "<Figure size 640x480 with 1 Axes>"
      ]
     },
     "metadata": {},
     "output_type": "display_data"
    },
    {
     "data": {
      "image/png": "[encoded data removed]",
      "text/plain": [
       "<Figure size 640x480 with 1 Axes>"
      ]
     },
     "metadata": {},
     "output_type": "display_data"
    },
    {
     "data": {
      "image/png": "[encoded data removed]",
      "text/plain": [
       "<Figure size 640x480 with 1 Axes>"
      ]
     },
     "metadata": {},
     "output_type": "display_data"
    },
    {
     "data": {
      "image/png": "[encoded data removed]",
      "text/plain": [
       "<Figure size 640x480 with 1 Axes>"
      ]
     },
     "metadata": {},
     "output_type": "display_data"
    }
   ],
   "source": [
    "h = np.zeros((pattern_width * pattern_height))\n",
    "#Defining Hamming Distance matrix for seeing convergence \n",
    "hamming_distance = np.zeros((max_iterations,nb_patterns))\n",
    "for iteration in range(max_iterations):\n",
    "    for i in range(pattern_width * pattern_height):\n",
    "        i = np.random.randint(pattern_width * pattern_height)\n",
    "        h[i] = 0\n",
    "        for j in range(pattern_width * pattern_height):\n",
    "            h[i] += W[i, j]*S[j]\n",
    "        S = np.where(h<0, -1, 1)\n",
    "    for i in range(nb_patterns):\n",
    "        hamming_distance[iteration, i] = ((patterns - S)[i]!=0).sum()   \n",
    "    \n",
    "    fig, ax = plt.subplots()\n",
    "    ax.matshow(S.reshape((pattern_height, pattern_width)), cmap='gray')\n",
    "hamming_distance"
   ]
  }
 ],
 "metadata": {
  "kernelspec": {
   "display_name": "conda_python3",
   "language": "python",
   "name": "conda_python3"
  },
  "language_info": {
   "codemirror_mode": {
    "name": "ipython",
    "version": 3
   },
   "file_extension": ".py",
   "mimetype": "text/x-python",
   "name": "python",
   "nbconvert_exporter": "python",
   "pygments_lexer": "ipython3",
   "version": "3.10.8"
  }
 },
 "nbformat": 4,
 "nbformat_minor": 5
}
