{
 "cells": [
  {
   "cell_type": "markdown",
   "id": "56f792e0-6c9a-4aec-9852-722a45445965",
   "metadata": {},
   "source": [
    "# Fields Academy | Western University\n",
    "### Neural Networks, Assignment 3\n",
    "### Evan Callaghan\n",
    "### April 21, 2023"
   ]
  },
  {
   "cell_type": "code",
   "execution_count": 4,
   "id": "7af50c97-1fdb-42c9-ad38-d01ec005ec42",
   "metadata": {
    "tags": []
   },
   "outputs": [],
   "source": [
    "import os\n",
    "import numpy as np\n",
    "import pandas as pd\n",
    "from PIL import Image\n",
    "import matplotlib.pyplot as plt"
   ]
  },
  {
   "cell_type": "code",
   "execution_count": 5,
   "id": "65fd3edb-28b7-4833-b707-13ade6712ba3",
   "metadata": {
    "tags": []
   },
   "outputs": [],
   "source": [
    "## Opening the image\n",
    "img = Image.open('memory1-1.png')\n",
    "\n",
    "## Converting the image to grey-scale\n",
    "img = img.convert('L')\n",
    "\n",
    "## Resizing the image\n",
    "img = img.resize((100, 100))\n",
    "\n",
    "## Converting image to a numpy array\n",
    "img_array = np.array(img)"
   ]
  },
  {
   "cell_type": "code",
   "execution_count": 7,
   "id": "a8ba4177-69fe-4d06-a801-2559277ef3e6",
   "metadata": {
    "tags": []
   },
   "outputs": [
    {
     "data": {
      "image/png": "[encoded data removed]",
      "text/plain": [
       "<Figure size 640x480 with 1 Axes>"
      ]
     },
     "metadata": {},
     "output_type": "display_data"
    }
   ],
   "source": [
    "# Normalize the pixel values to be between -1 and 1\n",
    "#img_array = img_array / 127.5 - 1.0\n",
    "    \n",
    "## Turn into memory pattern: Flattening the array to a 1 x 100^2 array\n",
    "flattened_image = img_array.flatten()\n",
    "\n",
    "\n",
    "## Plotting an example training image\n",
    "plt.imshow(img_array, cmap = 'binary')\n",
    "plt.show()"
   ]
  },
  {
   "cell_type": "code",
   "execution_count": null,
   "id": "a566d4e2-e3b9-4b01-a640-4925a98cc74a",
   "metadata": {
    "tags": []
   },
   "outputs": [],
   "source": [
    "img_array"
   ]
  },
  {
   "cell_type": "code",
   "execution_count": null,
   "id": "6464bae8-d912-4863-802b-96ef1caa82b6",
   "metadata": {},
   "outputs": [],
   "source": [
    "# Open the image using Pillow\n",
    "    img = Image.open(image_path)\n",
    "    \n",
    "    # Convert the image to grayscale\n",
    "    img = img.convert('L')\n",
    "    \n",
    "    # Resize the image to 100x100 pixels\n",
    "    img = img.resize((100, 100))\n",
    "    \n",
    "    # Convert the image to a numpy array\n",
    "    img_array = np.array(img)\n",
    "    \n",
    "    # Normalize the pixel values to be between -1 and 1\n",
    "    img_array = img_array / 127.5 - 1.0\n",
    "    \n",
    "    # Flatten the array to a 1 x 100^2 array\n",
    "    flattened_array = img_array.flatten()\n",
    "    \n",
    "    return flattened_array"
   ]
  },
  {
   "cell_type": "code",
   "execution_count": null,
   "id": "f1f58d3f-f176-4326-b55c-a8ab3c576fc2",
   "metadata": {
    "tags": []
   },
   "outputs": [],
   "source": [
    "img.shape"
   ]
  }
 ],
 "metadata": {
  "kernelspec": {
   "display_name": "conda_python3",
   "language": "python",
   "name": "conda_python3"
  },
  "language_info": {
   "codemirror_mode": {
    "name": "ipython",
    "version": 3
   },
   "file_extension": ".py",
   "mimetype": "text/x-python",
   "name": "python",
   "nbconvert_exporter": "python",
   "pygments_lexer": "ipython3",
   "version": "3.10.8"
  }
 },
 "nbformat": 4,
 "nbformat_minor": 5
}
