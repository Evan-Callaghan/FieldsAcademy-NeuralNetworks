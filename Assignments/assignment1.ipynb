{
 "cells": [
  {
   "cell_type": "code",
   "execution_count": null,
   "id": "10cea83d-2504-430f-ae0b-d581b4514ccc",
   "metadata": {},
   "outputs": [],
   "source": []
  },
  {
   "cell_type": "code",
   "execution_count": 2,
   "id": "17e2d68e-de14-4586-8328-c94ebb6a341b",
   "metadata": {},
   "outputs": [],
   "source": [
    "## Importing libraries\n",
    "import numpy as np\n",
    "import pandas as pd\n",
    "import seaborn as sns\n",
    "from itertools import islice\n",
    "import matplotlib.pyplot as plt"
   ]
  },
  {
   "cell_type": "markdown",
   "id": "e91ba09a-8a49-40ba-a232-73b1abaff983",
   "metadata": {},
   "source": [
    "### Problem 1. Part c)"
   ]
  },
  {
   "cell_type": "code",
   "execution_count": null,
   "id": "7bdc9f7e-8ee7-45e6-85ce-b0357ad390ac",
   "metadata": {},
   "outputs": [],
   "source": [
    "## Defining parameters\n",
    "a = 2.9; x0 = 0.62; nsteps = 1000;\n",
    "\n",
    "## Initializing an array of zeros\n",
    "x = np.zeros(nsteps); x[0] = x0;\n",
    "\n",
    "## Running simulation\n",
    "for ii in np.arange(1,nsteps): \n",
    "    x[ii] = a * x[ii-1] * (1 - x[ii-1])\n",
    "\n",
    "# plot results\n",
    "plt.plot(x); plt.xlabel('Time steps'); plt.ylabel('x')"
   ]
  },
  {
   "cell_type": "code",
   "execution_count": null,
   "id": "7ec0cbf2-897a-4540-ad31-cf8641db21cc",
   "metadata": {},
   "outputs": [],
   "source": [
    "(a-1)/a"
   ]
  },
  {
   "cell_type": "markdown",
   "id": "cb06d96c-e611-4846-a76a-ef9e77e1941b",
   "metadata": {},
   "source": [
    "### Problem 1. Part d)"
   ]
  },
  {
   "cell_type": "code",
   "execution_count": null,
   "id": "bdd96913-f364-4f02-9490-208e7a1db72e",
   "metadata": {},
   "outputs": [],
   "source": [
    "## Defining range of a values\n",
    "a_range = np.arange(3.4, 3.86, 0.05)\n",
    "\n",
    "## Setting the number of iterations\n",
    "nsteps = 600\n",
    "\n",
    "## Initializing an array with x_0 = 0.5\n",
    "x = np.zeros(nsteps); x[0] = 0.5\n",
    "\n",
    "## Initializing a dataframe to store results\n",
    "res = pd.DataFrame(columns = ['a', 'value'])\n",
    "\n",
    "## Considerng the logistic map for all values of a:\n",
    "for i, a in enumerate(a_range):\n",
    "    \n",
    "    for j in np.arange(1, nsteps):\n",
    "        \n",
    "        x[j] = a * x[j-1] * (1 - x[j-1])\n",
    "    \n",
    "    ## Extracting unique values from the last 300 entries\n",
    "    unique = np.unique(x[300:])\n",
    "    \n",
    "    ## Storing unique values from most recent iteration\n",
    "    new = pd.DataFrame({'a': np.repeat(a, len(unique)), 'value': unique})\n",
    "    \n",
    "    ## Appending to results\n",
    "    res = pd.concat([res, new], ignore_index = True)"
   ]
  },
  {
   "cell_type": "code",
   "execution_count": null,
   "id": "cb00fe92-eb2e-4c7f-b038-5c467d108ae3",
   "metadata": {
    "tags": []
   },
   "outputs": [],
   "source": [
    "## Plotting res dataframe\n",
    "plt.figure(figsize = (12, 8)) \n",
    "plt.scatter(res['a'], res['value'], marker = '.', color = 'forestgreen', s = 60)\n",
    "plt.title('Logistic Map Orbit Diagram', size = 24, fontweight = 'semibold', pad = 16)\n",
    "plt.xlabel('a', size = 20, style = 'italic')\n",
    "plt.ylabel('Unique Values', size = 20, style = 'italic')\n",
    "plt.xticks(a_range) \n",
    "plt.grid(alpha = 0.3)\n",
    "plt.show()"
   ]
  },
  {
   "cell_type": "code",
   "execution_count": null,
   "id": "e1690110-ca94-408d-8550-03d3e1a258fa",
   "metadata": {},
   "outputs": [],
   "source": [
    "## Defining range of a values\n",
    "a_range = np.arange(2.8, 3.99, 0.001)\n",
    "\n",
    "## Setting the number of iterations\n",
    "nsteps = 600\n",
    "\n",
    "## Initializing an array with x_0 = 0.5\n",
    "x = np.zeros(nsteps); x[0] = 0.5\n",
    "\n",
    "## Initializing a dataframe to store results\n",
    "res = pd.DataFrame(columns = ['a', 'value'])\n",
    "\n",
    "## Considerng the logistic map for all values of a:\n",
    "for i, a in enumerate(a_range):\n",
    "    \n",
    "    for j in np.arange(1, nsteps):\n",
    "        \n",
    "        x[j] = a * x[j-1] * (1 - x[j-1])\n",
    "    \n",
    "    ## Extracting unique values from the last 300 entries\n",
    "    unique = np.unique(x[300:])\n",
    "    \n",
    "    ## Storing unique values from most recent iteration\n",
    "    new = pd.DataFrame({'a': np.repeat(a, len(unique)), 'value': unique})\n",
    "    \n",
    "    ## Appending to results\n",
    "    res = pd.concat([res, new], ignore_index = True)"
   ]
  },
  {
   "cell_type": "code",
   "execution_count": null,
   "id": "b97d5ec7-32e1-4528-9f89-4396030d3bdc",
   "metadata": {},
   "outputs": [],
   "source": [
    "## Plotting res dataframe\n",
    "plt.figure(figsize = (12, 8)) \n",
    "plt.plot('a', 'value', data = res, linestyle = 'none', marker = '.', alpha = 0.5)\n",
    "plt.title('Logistic Map Orbit Diagram', size = 18)\n",
    "plt.xlabel('a value', size = 14)\n",
    "plt.ylabel('Unique Value', size = 14)\n",
    "plt.grid()\n",
    "plt.show()"
   ]
  },
  {
   "cell_type": "markdown",
   "id": "b3819251-af68-40d1-8d02-f27ff0c192b2",
   "metadata": {},
   "source": [
    "### Problem 2. Part b) i."
   ]
  },
  {
   "cell_type": "code",
   "execution_count": null,
   "id": "3cb21897-8a84-425a-8136-bf0d2f3f7ff6",
   "metadata": {},
   "outputs": [],
   "source": [
    "V = np.arange(-4, 6, 0.01)\n",
    "I_vals = np.array([-10, -8, -6, -4, -2])\n",
    "res = pd.DataFrame({'V': V})\n",
    "palette = plt.get_cmap('Set1')\n",
    "plt.figure(figsize = (12, 8))\n",
    "\n",
    "for i, I in enumerate(I_vals):\n",
    "    dV_dt = V**2 + I\n",
    "    plt.plot(V, dV_dt, marker = '', color = palette(i), label = I, alpha = 1)\n",
    "    plt.scatter([np.sqrt(np.abs(I))], [0], marker='o', s = 60, color = palette(i))\n",
    "    plt.scatter([-np.sqrt(np.abs(I))], [0], marker='*', s = 100, color = palette(i))\n",
    "    \n",
    "plt.title('dV/dt vs. V for I < 0', size = 20, fontweight = 'semibold', pad = 16)\n",
    "plt.xlabel('V', size = 20, style = 'italic')\n",
    "plt.ylabel('dV/dt', size = 20, style = 'italic')\n",
    "plt.grid()\n",
    "plt.legend(title = 'I-Value', fontsize = 12)\n",
    "plt.show()\n",
    "\n",
    "## Plot dV against V and locate Vrest and Vthres when I < 0. \n",
    "## What about when I > 0?"
   ]
  },
  {
   "cell_type": "code",
   "execution_count": null,
   "id": "052cf44f-2cb6-43a9-8c11-e6d6efca7318",
   "metadata": {},
   "outputs": [],
   "source": [
    "V = np.arange(-4, 6, 0.01)\n",
    "I_vals = np.array([2, 4, 6, 8, 10])\n",
    "res = pd.DataFrame({'V': V})\n",
    "palette = plt.get_cmap('Dark2')\n",
    "plt.figure(figsize = (12, 8))\n",
    "\n",
    "for i, I in enumerate(I_vals):\n",
    "    dV_dt = V**2 + I\n",
    "    plt.plot(V, dV_dt, marker = '', color = palette(i), label = I, alpha = 1)\n",
    "    \n",
    "plt.title('dV/dt vs. V for I < 0', size = 20, fontweight = 'semibold', pad = 16)\n",
    "plt.xlabel('V', size = 20, style = 'italic')\n",
    "plt.ylabel('dV/dt', size = 20, style = 'italic')\n",
    "plt.grid()\n",
    "plt.legend(title = 'I-Value', fontsize = 12)\n",
    "plt.show()\n",
    "\n",
    "## Plot dV against V and locate Vrest and Vthres when I < 0. \n",
    "## What about when I > 0?"
   ]
  },
  {
   "cell_type": "markdown",
   "id": "21c710e0-6fd8-4bfc-8257-9e1d7d2d7aa7",
   "metadata": {},
   "source": [
    "### ii. A"
   ]
  },
  {
   "cell_type": "code",
   "execution_count": null,
   "id": "3b97b7ba-bea3-4e45-959f-8298a0cfa7b6",
   "metadata": {},
   "outputs": [],
   "source": [
    "## iii. I = 10, simulatating the QIF for 10 seconds with any initial condition. \n",
    "## What’s the firing behaviour? Does the initial condition you choose matter? Explain.\n",
    "\n",
    "\n",
    "## Setting parameter values\n",
    "I = 10\n",
    "ebs = 0.05\n",
    "V_rest = -np.sqrt(np.abs(I))\n",
    "V_thres = np.sqrt(np.abs(I))\n",
    "V_reset = V_thres + ebs\n",
    "V_peak = 100\n",
    "V0 = 20\n",
    "\n",
    "## Setting desired time\n",
    "dt     = 0.001\n",
    "T      = 10\n",
    "time   = np.linspace(dt,T,int(T/dt))\n",
    "\n",
    "def initialize_simulation():\n",
    "    V = np.zeros(time.size)\n",
    "    spikes = np.zeros(time.size)\n",
    "    V[0] = V0\n",
    "    return V, spikes\n",
    "\n",
    "def plot_V(time,V,timeSpikes):\n",
    "    plt.figure(figsize = (12, 6))\n",
    "    plt.plot(time, V, 'k', timeSpikes, np.ones(timeSpikes.size)*V_peak, 'ro')\n",
    "    plt.ylabel('V(t)')\n",
    "    plt.xlabel('time (seconds)')\n",
    "\n",
    "def integrate_and_fire(V, spikes, i, I):\n",
    "    dV = V[i-1]**2 + I\n",
    "    V[i] = (dV*dt) + V[i-1]\n",
    "    if (V[i] >= V_peak):\n",
    "        V[i] = V_reset\n",
    "        spikes[i] = 1\n",
    "    return V, spikes"
   ]
  },
  {
   "cell_type": "code",
   "execution_count": null,
   "id": "fde050b2-6236-4e70-b9b0-a8f5932a1750",
   "metadata": {},
   "outputs": [],
   "source": [
    "## Initializing\n",
    "V, spikes = initialize_simulation()\n",
    "\n",
    "## Iterating over each time step\n",
    "for i, t in islice(enumerate(time),1,None):\n",
    "    \n",
    "    V, spikes = integrate_and_fire(V, spikes, i, I)\n",
    "\n",
    "V[spikes==1] = V_peak\n",
    "\n",
    "## Plotting V(t)\n",
    "plot_V(time, V, time[spikes==1])\n",
    "plt.title('Firing Activity Simulation')\n",
    "plt.grid()"
   ]
  },
  {
   "cell_type": "code",
   "execution_count": 11,
   "id": "97dbe39a-160e-4e83-9b89-567a497baa2b",
   "metadata": {},
   "outputs": [],
   "source": [
    "## ii. I = -10, simulatating the QIF for 10 seconds with the initial condition:\n",
    "\n",
    "# Vreset = Vthres ± ε\n",
    "# Let V0 > Vthres\n",
    "# Explain the spiking pattern in terms of the fixed points we chose to be Vreset and Vthres.\n",
    "\n",
    "## Setting parameter values\n",
    "I = -10\n",
    "ebs = 0.01\n",
    "V_rest = -np.sqrt(np.abs(I))\n",
    "V_thres = np.sqrt(np.abs(I))\n",
    "V_reset = V_thres + ebs\n",
    "V_peak = 100\n",
    "V0 = V_thres + 1\n",
    "\n",
    "## Setting desired time\n",
    "dt     = 0.001\n",
    "T      = 10\n",
    "time   = np.linspace(dt,T,int(T/dt))\n",
    "\n",
    "def initialize_simulation():\n",
    "    V = np.zeros(time.size)\n",
    "    spikes = np.zeros(time.size)\n",
    "    V[0] = V0\n",
    "    return V, spikes\n",
    "\n",
    "def plot_V(time,V,timeSpikes):\n",
    "    plt.figure(figsize = (12, 6))\n",
    "    plt.plot(time, V, 'k', timeSpikes, np.ones(timeSpikes.size)*V_peak, 'ro')\n",
    "    plt.ylabel('V(t)')\n",
    "    plt.xlabel('time (seconds)')\n",
    "\n",
    "def integrate_and_fire(V, spikes, i, I):\n",
    "    dV = V[i-1]**2 + I\n",
    "    V[i] = (dV*dt) + V[i-1]\n",
    "    if (V[i] >= V_peak):\n",
    "        V[i] = V_reset\n",
    "        spikes[i] = 1\n",
    "    return V, spikes"
   ]
  },
  {
   "cell_type": "code",
   "execution_count": 12,
   "id": "002bd7c2-5b70-4e94-8aa4-1657d5860252",
   "metadata": {},
   "outputs": [
    {
     "name": "stdout",
     "output_type": "stream",
     "text": [
      "3.1622776601683795\n",
      "3.1722776601683793\n"
     ]
    }
   ],
   "source": [
    "print(V_thres)\n",
    "print(V_reset)"
   ]
  },
  {
   "cell_type": "code",
   "execution_count": 13,
   "id": "5a4417cd-a5ad-4478-8ecf-f9aefd6510e8",
   "metadata": {},
   "outputs": [
    {
     "data": {
      "image/png": "[encoded data removed]",
      "text/plain": [
       "<Figure size 864x432 with 1 Axes>"
      ]
     },
     "metadata": {
      "needs_background": "light"
     },
     "output_type": "display_data"
    }
   ],
   "source": [
    "## Initializing\n",
    "V, spikes = initialize_simulation()\n",
    "\n",
    "## Iterating over each time step\n",
    "for i, t in islice(enumerate(time),1,None):\n",
    "    \n",
    "    V, spikes = integrate_and_fire(V, spikes, i, I)\n",
    "\n",
    "V[spikes==1] = V_peak\n",
    "\n",
    "## Plotting V(t)\n",
    "plot_V(time, V, time[spikes==1])\n",
    "plt.title('Firing Activity Simulation')\n",
    "plt.grid()"
   ]
  },
  {
   "cell_type": "code",
   "execution_count": 9,
   "id": "5cd22147-d8fd-4c39-9a33-51bc28900669",
   "metadata": {},
   "outputs": [],
   "source": [
    "## Setting parameter values\n",
    "I = 0.25\n",
    "ebs = 0.05\n",
    "V_rest = -np.sqrt(np.abs(I))\n",
    "V_thres = np.sqrt(np.abs(I))\n",
    "V_reset = 0\n",
    "V_peak = 1\n",
    "V0 = 0.4\n",
    "\n",
    "## Setting up time\n",
    "dt     = 0.001   # simulation time step (seconds)\n",
    "T      = 10  # total time to simulate (seconds)\n",
    "time   = np.linspace(dt,T,int(T/dt)) # vector of timepoints we will simulate\n",
    "\n",
    "## Defining helper function\n",
    "def initialize_simulation():\n",
    "    # initialize membrane potential vector 'V' and spike vector 'spikes'\n",
    "    V = np.zeros(time.size) # preallocate vector for simulated membrane potentials\n",
    "    spikes = np.zeros(time.size) # vector to denote when spikes happen - spikes will be added after LIF simulation\n",
    "    V[0] = V0 # set first time point to resting potential\n",
    "    return V, spikes\n",
    "\n",
    "def plot_potentials(time,V,timeSpikes):\n",
    "    # plots membrane potential (V) against time (time), and marks spikes with red markers (timeSpikes)\n",
    "    plt.show()\n",
    "    plt.plot(time,V,'k',timeSpikes,np.ones(timeSpikes.size)*V_peak,'ro')\n",
    "    plt.ylabel('membrane potential (mV)')\n",
    "    plt.xlabel('time (seconds)')\n",
    "\n",
    "def integrate_and_fire(V, spikes, i, I):\n",
    "    ## Function to integrate changes in local membrane potential and fire if threshold reached\n",
    "    # V - vector of membrane potential\n",
    "    # spikes - spike marker vector\n",
    "    # i - index (applied to V and spikes) for current time step\n",
    "    # I - input current at this time step (scalar of unit amp)\n",
    "    \n",
    "    # 1: calculate change in membrane potential (dV)\n",
    "    dV = V[i-1]**2 + I\n",
    "    \n",
    "    # 2: integrate over given time step (Euler method)\n",
    "    V[i] = (dV*dt) + V[i-1]\n",
    "    \n",
    "    # 3: does the membrane potential exceed threshold (V > Vth)?\n",
    "    if (V[i] >= V_peak):\n",
    "        V[i] = V_reset\n",
    "        spikes[i] = 1\n",
    "    \n",
    "    return V, spikes # output the membrane potential vector and the {0,1} vector of spikes"
   ]
  },
  {
   "cell_type": "code",
   "execution_count": 10,
   "id": "a09d2e10-1c0c-456a-966d-c3877af16406",
   "metadata": {},
   "outputs": [
    {
     "data": {
      "image/png": "[encoded data removed]",
      "text/plain": [
       "<Figure size 432x288 with 1 Axes>"
      ]
     },
     "metadata": {
      "needs_background": "light"
     },
     "output_type": "display_data"
    }
   ],
   "source": [
    "V, spikes = initialize_simulation()\n",
    "\n",
    "# iterate over each time step\n",
    "for i, t in islice(enumerate(time),1,None):\n",
    "    \n",
    "    #effect change in potential and fire (if appropriate)\n",
    "    V, spikes = integrate_and_fire(V, spikes, i, I)\n",
    "\n",
    "# since we didn't add in the spikes directly to the membrane potentials (this would cause wild increases in potential),\n",
    "# ...we must add it back in now\n",
    "V[spikes==1] = V_peak\n",
    "\n",
    "# # plot membrane potential\n",
    "plot_potentials(time, V, time[spikes==1])\n",
    "plt.title('P1 : step current input')\n",
    "plt.grid()"
   ]
  },
  {
   "cell_type": "code",
   "execution_count": null,
   "id": "ec97485a-0c81-4a2e-b537-23a997425d1f",
   "metadata": {},
   "outputs": [],
   "source": [
    "V"
   ]
  },
  {
   "cell_type": "code",
   "execution_count": null,
   "id": "6b0f5bda-9c42-4db0-ac73-7fe9ef6bea71",
   "metadata": {},
   "outputs": [],
   "source": [
    "spikes"
   ]
  },
  {
   "cell_type": "code",
   "execution_count": null,
   "id": "f91e1771-cb15-4cc6-8a85-0336df2016f9",
   "metadata": {},
   "outputs": [],
   "source": [
    "# parameters\n",
    "Rm     = 1e6    # resistance (ohm)\n",
    "Cm     = 2e-8   # capacitance (farad)\n",
    "taum   = Rm*Cm  # time constant (seconds)\n",
    "EL     = -.060  # resting membrane potential (volt)\n",
    "Vreset = -.070  # membrane potential after spike (volt)\n",
    "Vth    = -.050  # spike threshold (volt)\n",
    "Vs     = .020   # spiking potential (volt)\n",
    "\n",
    "\n",
    "dt     = .001   # simulation time step (seconds)\n",
    "T      = 1.0    # total time to simulate (seconds)\n",
    "time   = np.linspace(dt,T,int(T/dt)) # vector of timepoints we will simulate\n",
    "\n",
    "## Helper functions:\n",
    "def initialize_simulation():\n",
    "    # initialize membrane potential vector 'V' and spike vector 'spikes'\n",
    "    V      = np.zeros(time.size) # preallocate vector for simulated membrane potentials\n",
    "    spikes = np.zeros(time.size) # vector to denote when spikes happen - spikes will be added after LIF simulation\n",
    "    V[0]   = EL # set first time point to resting potential\n",
    "    return V,spikes\n",
    "\n",
    "def plot_potentials(time,V,timeSpikes):\n",
    "    # plots membrane potential (V) against time (time), and marks spikes with red markers (timeSpikes)\n",
    "    plt.show()\n",
    "    plt.plot(time,V,'k',timeSpikes,np.ones(timeSpikes.size)*Vs,'ro')\n",
    "    plt.ylabel('membrane potential (mV)')\n",
    "    plt.xlabel('time (seconds)')\n",
    "    \n",
    "## Euler integration\n",
    "def integrate_and_fire( V, spikes, i, Ie ):\n",
    "    # function to integrate changes in local membrane potential and fire if threshold reached\n",
    "    # V - vector of membrane potential\n",
    "    # spikes - spike marker vector\n",
    "    # i - index (applied to V and spikes) for current time step\n",
    "    # Ie - input current at this time step (scalar of unit amp)\n",
    "\n",
    "    dV = ((EL-V[i-1]) + (Rm*Ie)) / taum # calculate change in membrane potential\n",
    "    V[i] = V[i-1] + (dV*dt) # integrate over given time step\n",
    "\n",
    "    # is potential greater than the threshold?\n",
    "    if V[i] > Vth:\n",
    "        V[i] = Vreset\n",
    "        spikes[i] = 1\n",
    "    return V,spikes"
   ]
  },
  {
   "cell_type": "code",
   "execution_count": null,
   "id": "9777e1f3-66dd-4f90-98ce-c8fd5ad45421",
   "metadata": {},
   "outputs": [],
   "source": [
    "\n",
    "#////////////////////////////////////\n",
    "#  problem 1 - step current input //\n",
    "#//////////////////////////////////\n",
    "#\n",
    "# Implement a leaky integrate and fire (LIF) neuron with parameters given \n",
    "# above. \n",
    "# \n",
    "# Create a current input which:\n",
    "#       - starts at 0 A\n",
    "#       - steps up to 15 nA at stim_time[0]\n",
    "#       - steps down to 0 A at stim_time[1]\n",
    "#\n",
    "# Output:\n",
    "# Plot the resulting simulated membrane potential of the LIF neuron.\n",
    "#\n",
    "\n",
    "# problem-specific parameters\n",
    "stim_time = [.2,.8] # time (seconds) when current turns ON and turns OFF\n",
    "\n",
    "\n",
    "V,spikes = initialize_simulation()\n",
    "\n",
    "# iterate over each time step\n",
    "for i, t in islice(enumerate(time),1,None):\n",
    "    # is input current on?\n",
    "    if t>stim_time[0] and t < stim_time[1]:\n",
    "        Ie = 1.5e-8\n",
    "    else:\n",
    "        Ie = 0\n",
    "\n",
    "    # effect change in potential and fire (if appropriate)\n",
    "    V,spikes = integrate_and_fire(V,spikes,i,Ie)\n",
    "\n",
    "# since we didn't add in the spikes directly to the membrane potentials (this would cause wild increases in potential),\n",
    "# ...we must add it back in now\n",
    "V[spikes==1] = Vs\n",
    "\n",
    "# plot membrane potential\n",
    "plot_potentials(time,V,time[spikes==1])\n",
    "plt.title('P1 : step current input')"
   ]
  },
  {
   "cell_type": "code",
   "execution_count": null,
   "id": "9e05302c-f364-4745-b08c-c7d448ab19ff",
   "metadata": {},
   "outputs": [],
   "source": []
  }
 ],
 "metadata": {
  "kernelspec": {
   "display_name": "Python 3 (ipykernel)",
   "language": "python",
   "name": "python3"
  },
  "language_info": {
   "codemirror_mode": {
    "name": "ipython",
    "version": 3
   },
   "file_extension": ".py",
   "mimetype": "text/x-python",
   "name": "python",
   "nbconvert_exporter": "python",
   "pygments_lexer": "ipython3",
   "version": "3.9.12"
  }
 },
 "nbformat": 4,
 "nbformat_minor": 5
}
