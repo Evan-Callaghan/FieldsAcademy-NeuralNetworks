{
 "cells": [
  {
   "cell_type": "code",
   "execution_count": null,
   "id": "10cea83d-2504-430f-ae0b-d581b4514ccc",
   "metadata": {},
   "outputs": [],
   "source": []
  },
  {
   "cell_type": "code",
   "execution_count": 1,
   "id": "17e2d68e-de14-4586-8328-c94ebb6a341b",
   "metadata": {},
   "outputs": [],
   "source": [
    "## Importing libraries\n",
    "import numpy as np\n",
    "import pandas as pd\n",
    "import matplotlib.pyplot as plt"
   ]
  },
  {
   "cell_type": "markdown",
   "id": "e91ba09a-8a49-40ba-a232-73b1abaff983",
   "metadata": {},
   "source": [
    "### Problem 3. Part c)"
   ]
  },
  {
   "cell_type": "code",
   "execution_count": 55,
   "id": "7bdc9f7e-8ee7-45e6-85ce-b0357ad390ac",
   "metadata": {},
   "outputs": [
    {
     "data": {
      "text/plain": [
       "Text(0, 0.5, 'x')"
      ]
     },
     "execution_count": 55,
     "metadata": {},
     "output_type": "execute_result"
    },
    {
     "data": {
      "image/png": "[encoded data removed]",
      "text/plain": [
       "<Figure size 432x288 with 1 Axes>"
      ]
     },
     "metadata": {
      "needs_background": "light"
     },
     "output_type": "display_data"
    }
   ],
   "source": [
    "## Defining parameters\n",
    "a = 1.2; x0 = 0.62; nsteps = 1000;\n",
    "\n",
    "## Initializing an array of zeros\n",
    "x = np.zeros(nsteps); x[0] = x0;\n",
    "\n",
    "## Running simulation\n",
    "for ii in np.arange(1,nsteps): \n",
    "    x[ii] = a * x[ii-1] * (1 - x[ii-1])\n",
    "\n",
    "# plot results\n",
    "plt.plot(x); plt.xlabel('Time steps'); plt.ylabel('x')"
   ]
  },
  {
   "cell_type": "code",
   "execution_count": 56,
   "id": "3bfef814-b21c-4fbb-b513-932ca76aae53",
   "metadata": {},
   "outputs": [
    {
     "data": {
      "text/plain": [
       "0.16666666666666669"
      ]
     },
     "execution_count": 56,
     "metadata": {},
     "output_type": "execute_result"
    }
   ],
   "source": [
    "0.2/1.2"
   ]
  },
  {
   "cell_type": "code",
   "execution_count": 57,
   "id": "91332c16-1e5d-4ccb-b420-9cf000a87d64",
   "metadata": {},
   "outputs": [
    {
     "data": {
      "text/plain": [
       "array([0.16666667, 0.16666667, 0.16666667, 0.16666667, 0.16666667,\n",
       "       0.16666667, 0.16666667, 0.16666667, 0.16666667, 0.16666667,\n",
       "       0.16666667, 0.16666667, 0.16666667, 0.16666667, 0.16666667,\n",
       "       0.16666667, 0.16666667, 0.16666667, 0.16666667, 0.16666667,\n",
       "       0.16666667, 0.16666667, 0.16666667, 0.16666667, 0.16666667,\n",
       "       0.16666667, 0.16666667, 0.16666667, 0.16666667, 0.16666667,\n",
       "       0.16666667, 0.16666667, 0.16666667, 0.16666667, 0.16666667,\n",
       "       0.16666667, 0.16666667, 0.16666667, 0.16666667, 0.16666667,\n",
       "       0.16666667, 0.16666667, 0.16666667, 0.16666667, 0.16666667,\n",
       "       0.16666667, 0.16666667, 0.16666667, 0.16666667, 0.16666667,\n",
       "       0.16666667, 0.16666667, 0.16666667, 0.16666667, 0.16666667,\n",
       "       0.16666667, 0.16666667, 0.16666667, 0.16666667, 0.16666667,\n",
       "       0.16666667, 0.16666667, 0.16666667, 0.16666667, 0.16666667,\n",
       "       0.16666667, 0.16666667, 0.16666667, 0.16666667, 0.16666667,\n",
       "       0.16666667, 0.16666667, 0.16666667, 0.16666667, 0.16666667,\n",
       "       0.16666667, 0.16666667, 0.16666667, 0.16666667, 0.16666667,\n",
       "       0.16666667, 0.16666667, 0.16666667, 0.16666667, 0.16666667,\n",
       "       0.16666667, 0.16666667, 0.16666667, 0.16666667, 0.16666667,\n",
       "       0.16666667, 0.16666667, 0.16666667, 0.16666667, 0.16666667,\n",
       "       0.16666667, 0.16666667, 0.16666667, 0.16666667, 0.16666667])"
      ]
     },
     "execution_count": 57,
     "metadata": {},
     "output_type": "execute_result"
    }
   ],
   "source": [
    "x[200:300]"
   ]
  },
  {
   "cell_type": "markdown",
   "id": "cb06d96c-e611-4846-a76a-ef9e77e1941b",
   "metadata": {},
   "source": [
    "### Problem 1. Part d)"
   ]
  },
  {
   "cell_type": "code",
   "execution_count": 38,
   "id": "1baad85c-c42b-40a0-8a8b-fa490c704c8c",
   "metadata": {},
   "outputs": [],
   "source": [
    "a = np.arange(3.4, 3.86, 0.05)\n",
    "n = len(a)\n",
    "nsteps = 20\n",
    "x = np.zeros((nsteps, n))\n",
    "x[0,] = 0.5\n",
    "\n",
    "for i in range(0, n):\n",
    "    for ii in np.arange(1, nsteps):\n",
    "        x[ii, i] = a[i] * x[ii-1,i] * (1-x[ii-1,i])\n"
   ]
  },
  {
   "cell_type": "code",
   "execution_count": 39,
   "id": "e31fc536-abf1-4ffc-88f4-2fb929a786eb",
   "metadata": {},
   "outputs": [
    {
     "data": {
      "text/plain": [
       "array([0.5       , 0.9625    , 0.13896094, 0.46065556, 0.95654026,\n",
       "       0.16004832, 0.51756649, 0.96131196, 0.14318641, 0.47233364,\n",
       "       0.9595531 , 0.14942214, 0.48931638, 0.96206056, 0.14052514,\n",
       "       0.46499464, 0.9577823 , 0.15567614, 0.50604816, 0.96235917])"
      ]
     },
     "execution_count": 39,
     "metadata": {},
     "output_type": "execute_result"
    }
   ],
   "source": [
    "x[:,9]"
   ]
  },
  {
   "cell_type": "code",
   "execution_count": 50,
   "id": "f14d21de-f837-4769-a2b1-7569d1939fae",
   "metadata": {},
   "outputs": [
    {
     "data": {
      "text/plain": [
       "Text(0, 0.5, 'x')"
      ]
     },
     "execution_count": 50,
     "metadata": {},
     "output_type": "execute_result"
    },
    {
     "data": {
      "image/png": "[encoded data removed]",
      "text/plain": [
       "<Figure size 432x288 with 1 Axes>"
      ]
     },
     "metadata": {
      "needs_background": "light"
     },
     "output_type": "display_data"
    }
   ],
   "source": [
    "## Defining parameters\n",
    "a = 2.7; x0 = 0.2; nsteps = 20;\n",
    "\n",
    "## Initializing an array of zeros\n",
    "x = np.zeros(nsteps); x[0] = x0;\n",
    "\n",
    "## Running simulation\n",
    "for ii in np.arange(1,nsteps): \n",
    "    x[ii] = a * x[ii-1] * (1 - x[ii-1])\n",
    "\n",
    "# plot results\n",
    "plt.plot(x); plt.xlabel('Time steps'); plt.ylabel('x')"
   ]
  },
  {
   "cell_type": "code",
   "execution_count": null,
   "id": "2a1a8c08-dd15-4f71-834c-1304f4c46fb3",
   "metadata": {},
   "outputs": [],
   "source": []
  }
 ],
 "metadata": {
  "kernelspec": {
   "display_name": "Python 3 (ipykernel)",
   "language": "python",
   "name": "python3"
  },
  "language_info": {
   "codemirror_mode": {
    "name": "ipython",
    "version": 3
   },
   "file_extension": ".py",
   "mimetype": "text/x-python",
   "name": "python",
   "nbconvert_exporter": "python",
   "pygments_lexer": "ipython3",
   "version": "3.9.12"
  }
 },
 "nbformat": 4,
 "nbformat_minor": 5
}
